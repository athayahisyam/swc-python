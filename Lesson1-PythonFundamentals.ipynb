{
 "cells": [
  {
   "cell_type": "markdown",
   "id": "02459f22",
   "metadata": {},
   "source": [
    "# HEP Software Training: Learn Programming with Python\n",
    "## Chapter 1: Fundamentals of Python\n",
    "\n",
    "Created by: [Hisyam Athaya](https://athayahisyam.github.io/)  \n",
    "Learning portfolio based on [SWCarpentry Programming with Python: Python Fundamentals](https://swcarpentry.github.io/python-novice-inflammation/)  \n",
    "Visit [HEP Software Training](https://hepsoftwarefoundation.org/training/curriculum.html) for more information."
   ]
  },
  {
   "cell_type": "markdown",
   "id": "919e10a5",
   "metadata": {},
   "source": [
    "# Variables and Types of Data"
   ]
  },
  {
   "cell_type": "code",
   "execution_count": 4,
   "id": "b711385d",
   "metadata": {},
   "outputs": [],
   "source": [
    "weight_kg = 60.5"
   ]
  },
  {
   "cell_type": "code",
   "execution_count": 2,
   "id": "5812db39",
   "metadata": {},
   "outputs": [],
   "source": [
    "patient_id = '001'"
   ]
  },
  {
   "cell_type": "code",
   "execution_count": 5,
   "id": "38cfc79f",
   "metadata": {},
   "outputs": [
    {
     "name": "stdout",
     "output_type": "stream",
     "text": [
      "<class 'float'>\n",
      "<class 'str'>\n"
     ]
    }
   ],
   "source": [
    "print(type(weight_kg))\n",
    "print(type(patient_id))"
   ]
  },
  {
   "cell_type": "markdown",
   "id": "cc655803",
   "metadata": {},
   "source": [
    "Use variable's content and store them in different variable"
   ]
  },
  {
   "cell_type": "code",
   "execution_count": 6,
   "id": "4c8a6361",
   "metadata": {},
   "outputs": [
    {
     "name": "stdout",
     "output_type": "stream",
     "text": [
      "133.10000000000002\n"
     ]
    }
   ],
   "source": [
    "weight_lb = 2.2 * weight_kg\n",
    "print(weight_lb)"
   ]
  },
  {
   "cell_type": "code",
   "execution_count": 8,
   "id": "91125496",
   "metadata": {},
   "outputs": [
    {
     "name": "stdout",
     "output_type": "stream",
     "text": [
      "inflam_inflam_001\n"
     ]
    }
   ],
   "source": [
    "patient_id = 'inflam_' + patient_id\n",
    "print(patient_id)"
   ]
  },
  {
   "cell_type": "markdown",
   "id": "0a78fd8b",
   "metadata": {},
   "source": [
    "# Built-in Python Functions"
   ]
  },
  {
   "cell_type": "code",
   "execution_count": 9,
   "id": "f6459e5e",
   "metadata": {},
   "outputs": [
    {
     "name": "stdout",
     "output_type": "stream",
     "text": [
      "133.10000000000002\n",
      "<class 'float'>\n"
     ]
    }
   ],
   "source": [
    "print(weight_lb)\n",
    "print(type(weight_lb))"
   ]
  },
  {
   "cell_type": "code",
   "execution_count": 10,
   "id": "2499484c",
   "metadata": {},
   "outputs": [
    {
     "name": "stdout",
     "output_type": "stream",
     "text": [
      "inflam_inflam_001\n"
     ]
    }
   ],
   "source": [
    "print(patient_id)"
   ]
  },
  {
   "cell_type": "code",
   "execution_count": 11,
   "id": "8fa31f96",
   "metadata": {},
   "outputs": [
    {
     "name": "stdout",
     "output_type": "stream",
     "text": [
      "inflam_inflam_001 weight in kilograms:  60.5\n"
     ]
    }
   ],
   "source": [
    "print(patient_id, 'weight in kilograms: ', weight_kg)"
   ]
  },
  {
   "cell_type": "markdown",
   "id": "f82270c2",
   "metadata": {},
   "source": [
    "Using variable's value in an operations would not change its content unless specified so. In this example, the value is used for pound-kilogram conversion, where the value from `weight_kg` is multiplied by `2.0` and stored in `weight_lb`. The value in `weight_kg` remains intact."
   ]
  },
  {
   "cell_type": "code",
   "execution_count": 12,
   "id": "38401368",
   "metadata": {},
   "outputs": [
    {
     "name": "stdout",
     "output_type": "stream",
     "text": [
      "weight in kilograms: 60.5 and weight in pounds: 133.10000000000002\n"
     ]
    }
   ],
   "source": [
    "# There are 2.2 pounds per kilogram.\n",
    "weight_lb = 2.2 * weight_kg\n",
    "print('weight in kilograms:', weight_kg, 'and weight in pounds:', weight_lb)"
   ]
  },
  {
   "cell_type": "markdown",
   "id": "3197dffc",
   "metadata": {},
   "source": [
    "If we change `weight_kg` it will also change `weight_lb` respectively as it uses the value from the previous variable."
   ]
  },
  {
   "cell_type": "markdown",
   "id": "0ea0f5f0",
   "metadata": {},
   "source": [
    "# Assignment: Analysis"
   ]
  },
  {
   "cell_type": "markdown",
   "id": "c72be266",
   "metadata": {},
   "source": [
    "What values do the variables `mass` and `age` have after each of the following statements? Test your answer!"
   ]
  },
  {
   "cell_type": "code",
   "execution_count": 13,
   "id": "8d4bc3af",
   "metadata": {},
   "outputs": [],
   "source": [
    "mass = 47.5\n",
    "age = 122\n",
    "mass = mass * 2.0\n",
    "age = age - 20"
   ]
  },
  {
   "cell_type": "markdown",
   "id": "e014142f",
   "metadata": {},
   "source": [
    "`mass` would have `95.0`\n",
    "`age` would have `102`"
   ]
  },
  {
   "cell_type": "code",
   "execution_count": 14,
   "id": "64658da4",
   "metadata": {},
   "outputs": [
    {
     "name": "stdout",
     "output_type": "stream",
     "text": [
      "95.0\n",
      "102\n"
     ]
    }
   ],
   "source": [
    "print(mass)\n",
    "print(age)"
   ]
  }
 ],
 "metadata": {
  "kernelspec": {
   "display_name": "Python 3 (ipykernel)",
   "language": "python",
   "name": "python3"
  },
  "language_info": {
   "codemirror_mode": {
    "name": "ipython",
    "version": 3
   },
   "file_extension": ".py",
   "mimetype": "text/x-python",
   "name": "python",
   "nbconvert_exporter": "python",
   "pygments_lexer": "ipython3",
   "version": "3.9.7"
  }
 },
 "nbformat": 4,
 "nbformat_minor": 5
}
