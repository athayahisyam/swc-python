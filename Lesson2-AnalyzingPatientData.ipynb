{
 "cells": [
  {
   "cell_type": "markdown",
   "id": "a6ac49db",
   "metadata": {},
   "source": [
    "# HEP Software Training: Learn Programming with Python\n",
    "## Chapter 2: Analyzing Patient Data\n",
    "\n",
    "Created by: [Hisyam Athaya](https://athayahisyam.github.io/)  \n",
    "Learning portfolio based on [SWCarpentry Programming with Python: Python Fundamentals](https://swcarpentry.github.io/python-novice-inflammation/)  \n",
    "Visit [HEP Software Training](https://hepsoftwarefoundation.org/training/curriculum.html) for more information."
   ]
  },
  {
   "cell_type": "markdown",
   "id": "69b6b01b",
   "metadata": {},
   "source": [
    "### Importing Useful Library"
   ]
  },
  {
   "cell_type": "code",
   "execution_count": 1,
   "id": "b78d8023",
   "metadata": {},
   "outputs": [
    {
     "data": {
      "text/plain": [
       "'1.20.3'"
      ]
     },
     "execution_count": 1,
     "metadata": {},
     "output_type": "execute_result"
    }
   ],
   "source": [
    "import numpy\n",
    "numpy.__version__"
   ]
  },
  {
   "cell_type": "markdown",
   "id": "a48154fa",
   "metadata": {},
   "source": [
    "Loading data from csv => in this case, the data is not saved to memory"
   ]
  },
  {
   "cell_type": "code",
   "execution_count": 2,
   "id": "9a665b2e",
   "metadata": {},
   "outputs": [
    {
     "data": {
      "text/plain": [
       "array([[0., 0., 1., ..., 3., 0., 0.],\n",
       "       [0., 1., 2., ..., 1., 0., 1.],\n",
       "       [0., 1., 1., ..., 2., 1., 1.],\n",
       "       ...,\n",
       "       [0., 1., 1., ..., 1., 1., 1.],\n",
       "       [0., 0., 0., ..., 0., 2., 0.],\n",
       "       [0., 0., 1., ..., 1., 1., 0.]])"
      ]
     },
     "execution_count": 2,
     "metadata": {},
     "output_type": "execute_result"
    }
   ],
   "source": [
    "numpy.loadtxt(fname='python-novice-inflammation-data/data/inflammation-01.csv', delimiter=',')"
   ]
  },
  {
   "cell_type": "markdown",
   "id": "dfb2801e",
   "metadata": {},
   "source": [
    "### Numpy Array Operations"
   ]
  },
  {
   "cell_type": "markdown",
   "id": "9318b00e",
   "metadata": {},
   "source": [
    "Loading data from csv and saving them to variable `data`"
   ]
  },
  {
   "cell_type": "code",
   "execution_count": 3,
   "id": "1b05cd24",
   "metadata": {},
   "outputs": [],
   "source": [
    "data = numpy.loadtxt(fname='python-novice-inflammation-data/data/inflammation-01.csv', delimiter=',')"
   ]
  },
  {
   "cell_type": "code",
   "execution_count": 4,
   "id": "4c4ad02e",
   "metadata": {},
   "outputs": [
    {
     "name": "stdout",
     "output_type": "stream",
     "text": [
      "[[0. 0. 1. ... 3. 0. 0.]\n",
      " [0. 1. 2. ... 1. 0. 1.]\n",
      " [0. 1. 1. ... 2. 1. 1.]\n",
      " ...\n",
      " [0. 1. 1. ... 1. 1. 1.]\n",
      " [0. 0. 0. ... 0. 2. 0.]\n",
      " [0. 0. 1. ... 1. 1. 0.]]\n"
     ]
    }
   ],
   "source": [
    "print(data)"
   ]
  },
  {
   "cell_type": "code",
   "execution_count": 5,
   "id": "f190cb94",
   "metadata": {},
   "outputs": [
    {
     "name": "stdout",
     "output_type": "stream",
     "text": [
      "<class 'numpy.ndarray'>\n"
     ]
    }
   ],
   "source": [
    "print(type(data))"
   ]
  },
  {
   "cell_type": "code",
   "execution_count": 6,
   "id": "fcb487a0",
   "metadata": {},
   "outputs": [
    {
     "name": "stdout",
     "output_type": "stream",
     "text": [
      "float64\n"
     ]
    }
   ],
   "source": [
    "# dtype for showing the type of data contained in the ndarray\n",
    "\n",
    "print(data.dtype)"
   ]
  },
  {
   "cell_type": "code",
   "execution_count": 7,
   "id": "44a8e30f",
   "metadata": {},
   "outputs": [
    {
     "name": "stdout",
     "output_type": "stream",
     "text": [
      "(60, 40)\n"
     ]
    }
   ],
   "source": [
    "# shape of the data variable, its description of the dimensions of data.\n",
    "\n",
    "print(data.shape)"
   ]
  },
  {
   "cell_type": "markdown",
   "id": "ed020ba2",
   "metadata": {},
   "source": [
    "The data contains `60 rows` and `40 columns`."
   ]
  },
  {
   "cell_type": "code",
   "execution_count": 8,
   "id": "e5731f12",
   "metadata": {},
   "outputs": [
    {
     "name": "stdout",
     "output_type": "stream",
     "text": [
      "first value in the data: 0.0\n"
     ]
    }
   ],
   "source": [
    "# to access a single value in the array, we need to provide index in square brackets.\n",
    "\n",
    "print('first value in the data:', data[0,0])"
   ]
  },
  {
   "cell_type": "code",
   "execution_count": 9,
   "id": "0db0780a",
   "metadata": {},
   "outputs": [
    {
     "name": "stdout",
     "output_type": "stream",
     "text": [
      "middle value in the data: 13.0\n"
     ]
    }
   ],
   "source": [
    "print('middle value in the data:', data[30, 20])"
   ]
  },
  {
   "cell_type": "markdown",
   "id": "045710e1",
   "metadata": {},
   "source": [
    "Remember: indices in Python array are `[row, column]`"
   ]
  },
  {
   "cell_type": "markdown",
   "id": "8af2c8bf",
   "metadata": {},
   "source": [
    "### Slicing Data (... : ...)"
   ]
  },
  {
   "cell_type": "markdown",
   "id": "6d81a39c",
   "metadata": {},
   "source": [
    "Select first `ten columns of values` and the first `four rows of values`  \n",
    "In this context, where the data column represents days of observation and rows represents patients: first ten days of values for the first four of patients."
   ]
  },
  {
   "cell_type": "code",
   "execution_count": 10,
   "id": "771b4db1",
   "metadata": {},
   "outputs": [
    {
     "name": "stdout",
     "output_type": "stream",
     "text": [
      "[[0. 0. 1. 3. 1. 2. 4. 7. 8. 3.]\n",
      " [0. 1. 2. 1. 2. 1. 3. 2. 2. 6.]\n",
      " [0. 1. 1. 3. 3. 2. 6. 2. 5. 9.]\n",
      " [0. 0. 2. 0. 4. 2. 2. 1. 6. 7.]]\n"
     ]
    }
   ],
   "source": [
    "# remember! [row, column]\n",
    "\n",
    "print(data[0:4, 0:10])"
   ]
  },
  {
   "cell_type": "markdown",
   "id": "1f7819a0",
   "metadata": {},
   "source": [
    "The slice `[0:4]` means: `start at index 0 and go up-to-but-not-including 4`. Respectively, slice `[0:10]` means `start at index 0 go up-to-but-not-including 10`. Slice can begins everywhere, depends on what we needed."
   ]
  },
  {
   "cell_type": "code",
   "execution_count": 11,
   "id": "2bd8b2fa",
   "metadata": {},
   "outputs": [
    {
     "name": "stdout",
     "output_type": "stream",
     "text": [
      "[[0. 0. 1. 2. 2. 4. 2. 1. 6. 4.]\n",
      " [0. 0. 2. 2. 4. 2. 2. 5. 5. 8.]\n",
      " [0. 0. 1. 2. 3. 1. 2. 3. 5. 3.]\n",
      " [0. 0. 0. 3. 1. 5. 6. 5. 5. 8.]\n",
      " [0. 1. 1. 2. 1. 3. 5. 3. 5. 8.]]\n"
     ]
    }
   ],
   "source": [
    "print(data[5:10, 0:10])"
   ]
  },
  {
   "cell_type": "markdown",
   "id": "8b0e17bd",
   "metadata": {},
   "source": [
    "Slice do not have to include the `upper bound` and `lower bound`(`[lower bound : upper bound]`). If we do not specify `lower bound`, Python will use `0` as default and if we do not specify the `upper bound`, Python will run the slice to the end of the row/column axis. And if we do not specify anything, i.e. `[:]`, the slice includes everything."
   ]
  },
  {
   "cell_type": "code",
   "execution_count": 12,
   "id": "a400bb22",
   "metadata": {},
   "outputs": [
    {
     "name": "stdout",
     "output_type": "stream",
     "text": [
      "small is: \n",
      "[[2. 3. 0. 0.]\n",
      " [1. 1. 0. 1.]\n",
      " [2. 2. 1. 1.]]\n"
     ]
    }
   ],
   "source": [
    "# remember! [row, column]\n",
    "# remember! [lower bound : upper bound]\n",
    "\n",
    "small = data[:3, 36:] \n",
    "# means row start from index 0 up-to-but-not-include 3, column start from index 36 until end of axis\n",
    "\n",
    "print('small is: ')\n",
    "print(small)"
   ]
  },
  {
   "cell_type": "markdown",
   "id": "18798d7d",
   "metadata": {},
   "source": [
    "## Data Analysis"
   ]
  },
  {
   "cell_type": "markdown",
   "id": "07f34179",
   "metadata": {},
   "source": [
    "### Mean"
   ]
  },
  {
   "cell_type": "code",
   "execution_count": 13,
   "id": "9beb750d",
   "metadata": {},
   "outputs": [
    {
     "name": "stdout",
     "output_type": "stream",
     "text": [
      "6.14875\n"
     ]
    }
   ],
   "source": [
    "print(numpy.mean(data))"
   ]
  },
  {
   "cell_type": "markdown",
   "id": "415ca4d4",
   "metadata": {},
   "source": [
    "Note that not every Python functions need input. But need its parentheses nonetheless."
   ]
  },
  {
   "cell_type": "code",
   "execution_count": 14,
   "id": "5b11d3c7",
   "metadata": {},
   "outputs": [
    {
     "name": "stdout",
     "output_type": "stream",
     "text": [
      "Sun Mar 13 12:17:03 2022\n"
     ]
    }
   ],
   "source": [
    "import time\n",
    "print(time.ctime())"
   ]
  },
  {
   "cell_type": "markdown",
   "id": "a5336572",
   "metadata": {},
   "source": [
    "### Descriptive Values of the Dataset"
   ]
  },
  {
   "cell_type": "code",
   "execution_count": 15,
   "id": "4247a8aa",
   "metadata": {},
   "outputs": [
    {
     "name": "stdout",
     "output_type": "stream",
     "text": [
      "maximum inflammation:  20.0\n",
      "minimum inflammation:  0.0\n",
      "standard deviation:  4.613833197118566\n"
     ]
    }
   ],
   "source": [
    "maxval, minval, stdval = numpy.max(data), numpy.min(data), numpy.std(data)\n",
    "\n",
    "print('maximum inflammation: ', maxval)\n",
    "print('minimum inflammation: ', minval)\n",
    "print('standard deviation: ', stdval)"
   ]
  },
  {
   "cell_type": "markdown",
   "id": "63bc5d34",
   "metadata": {},
   "source": [
    "Important note: To list available numpy operations, type `numpy` followed by dot `.` and press `tab`, the complete list will appear. To show the description, type `?` and run or press `shift`+`enter`.\n",
    "\n",
    "e.g.\n",
    "\n",
    "`numpy.clip?`"
   ]
  },
  {
   "cell_type": "markdown",
   "id": "96e94450",
   "metadata": {},
   "source": [
    "In analysing the data, we often look to variations in statistical values, such as the maximum inflammation per patient or average inflammation per day. One way to do this is to *create new temporary array of the data we want and then do operations on them*"
   ]
  },
  {
   "cell_type": "code",
   "execution_count": 16,
   "id": "c5a4e824",
   "metadata": {},
   "outputs": [
    {
     "name": "stdout",
     "output_type": "stream",
     "text": [
      "maximum inflammation for patient 0: 18.0\n"
     ]
    }
   ],
   "source": [
    "patient_0 = data[0, :]\n",
    "# remember! [row, column]\n",
    "# means row index 0, slice all column for that row\n",
    "\n",
    "print('maximum inflammation for patient 0:', numpy.max(patient_0))"
   ]
  },
  {
   "cell_type": "markdown",
   "id": "4e582661",
   "metadata": {},
   "source": [
    "Or, something more straightforward, with no temporary variable."
   ]
  },
  {
   "cell_type": "code",
   "execution_count": 17,
   "id": "4995277e",
   "metadata": {},
   "outputs": [
    {
     "name": "stdout",
     "output_type": "stream",
     "text": [
      "maximum inflammation for patient 0: 19.0\n"
     ]
    }
   ],
   "source": [
    "print('maximum inflammation for patient 0:', numpy.max(data[2, :]))\n",
    "# means row index 2, slice all column, no lower or upper bound : for that column"
   ]
  },
  {
   "cell_type": "markdown",
   "id": "1d38f9df",
   "metadata": {},
   "source": [
    "This image explains visually on how our queries search for data. Notice the usage of `axis` syntax. In our 2 Dimensional Array example, `axis=0` represents column, and `axis=1` represents row.\n",
    "\n",
    "![Notice the pattern of average in the array/table](img/python-operations-across-axes.png)"
   ]
  },
  {
   "cell_type": "code",
   "execution_count": 18,
   "id": "004a58a8",
   "metadata": {},
   "outputs": [
    {
     "name": "stdout",
     "output_type": "stream",
     "text": [
      "[ 0.          0.45        1.11666667  1.75        2.43333333  3.15\n",
      "  3.8         3.88333333  5.23333333  5.51666667  5.95        5.9\n",
      "  8.35        7.73333333  8.36666667  9.5         9.58333333 10.63333333\n",
      " 11.56666667 12.35       13.25       11.96666667 11.03333333 10.16666667\n",
      " 10.          8.66666667  9.15        7.25        7.33333333  6.58333333\n",
      "  6.06666667  5.95        5.11666667  3.6         3.3         3.56666667\n",
      "  2.48333333  1.5         1.13333333  0.56666667]\n"
     ]
    }
   ],
   "source": [
    "print(numpy.mean(data, axis=0))"
   ]
  },
  {
   "cell_type": "code",
   "execution_count": 19,
   "id": "281dbdba",
   "metadata": {},
   "outputs": [
    {
     "name": "stdout",
     "output_type": "stream",
     "text": [
      "(40,)\n"
     ]
    }
   ],
   "source": [
    "print(numpy.mean(data, axis=0).shape)"
   ]
  },
  {
   "cell_type": "markdown",
   "id": "6fdf11f5",
   "metadata": {},
   "source": [
    "The expression `40` tell us we have an N x 1 vector. This show that the data printed before is the average (`mean`) inflammation per day."
   ]
  },
  {
   "cell_type": "code",
   "execution_count": 20,
   "id": "8ac0183f",
   "metadata": {},
   "outputs": [
    {
     "name": "stdout",
     "output_type": "stream",
     "text": [
      "[18. 18. 19. 17. 17. 18. 17. 20. 17. 18. 18. 18. 17. 16. 17. 18. 19. 19.\n",
      " 17. 19. 19. 16. 17. 15. 17. 17. 18. 17. 20. 17. 16. 19. 15. 15. 19. 17.\n",
      " 16. 17. 19. 16. 18. 19. 16. 19. 18. 16. 19. 15. 16. 18. 14. 20. 17. 15.\n",
      " 17. 16. 17. 19. 18. 18.]\n"
     ]
    }
   ],
   "source": [
    "print(numpy.max(data, axis=1))"
   ]
  },
  {
   "cell_type": "code",
   "execution_count": 21,
   "id": "0e6d94bc",
   "metadata": {},
   "outputs": [
    {
     "name": "stdout",
     "output_type": "stream",
     "text": [
      "(60,)\n"
     ]
    }
   ],
   "source": [
    "print(numpy.mean(data, axis=1).shape)"
   ]
  },
  {
   "cell_type": "markdown",
   "id": "b0026eae",
   "metadata": {},
   "source": [
    "The expression `60` tell us, we have an N x 1 vector. This show that the data printed before is the maximum value (`max`) of inflammation per patient."
   ]
  },
  {
   "cell_type": "markdown",
   "id": "1e41f405",
   "metadata": {},
   "source": [
    "### Playing with Slice"
   ]
  },
  {
   "cell_type": "code",
   "execution_count": 22,
   "id": "a35a71c1",
   "metadata": {},
   "outputs": [],
   "source": [
    "element = 'oxygen'"
   ]
  },
  {
   "cell_type": "code",
   "execution_count": 23,
   "id": "a03f0a69",
   "metadata": {},
   "outputs": [
    {
     "name": "stdout",
     "output_type": "stream",
     "text": [
      "first three characters: oxy\n",
      "last three characters: gen\n"
     ]
    }
   ],
   "source": [
    "print('first three characters:', element[0:3])\n",
    "print('last three characters:', element[3:6])"
   ]
  },
  {
   "cell_type": "code",
   "execution_count": 24,
   "id": "cbfbe6fa",
   "metadata": {},
   "outputs": [
    {
     "name": "stdout",
     "output_type": "stream",
     "text": [
      "n\n",
      "e\n"
     ]
    }
   ],
   "source": [
    "print(element[-1])\n",
    "print(element[-2])\n",
    "\n",
    "# element[-1] means element with index 1 from behind, in this case n\n",
    "# element[-2] means element with index 2 from behind, in this case e"
   ]
  },
  {
   "cell_type": "code",
   "execution_count": 25,
   "id": "3a0aba30",
   "metadata": {},
   "outputs": [
    {
     "name": "stdout",
     "output_type": "stream",
     "text": [
      "xyge\n"
     ]
    }
   ],
   "source": [
    "# remember! [lower bound : upper bound]\n",
    "\n",
    "print(element[1:-1])\n",
    "\n",
    "# means get value of string from index 1 up-to-but-not-including -1\n",
    "# index 1 is x, index -1 is n, which is excluded"
   ]
  },
  {
   "cell_type": "code",
   "execution_count": 26,
   "id": "716f336d",
   "metadata": {},
   "outputs": [
    {
     "name": "stdout",
     "output_type": "stream",
     "text": [
      "gen\n",
      "try\n",
      "one\n",
      "hi\n"
     ]
    }
   ],
   "source": [
    "# get last three character from element variable\n",
    "\n",
    "print(element[-3:])\n",
    "\n",
    "# means lower bound 3 from behind, while upper bound start to the finish.\n",
    "# It is indeed hard to understand :) will evaluate them later\n",
    "\n",
    "element1 = 'carpentry'\n",
    "element2 = 'clone'\n",
    "element3 = 'hi'\n",
    "\n",
    "print(element1[-3:])\n",
    "print(element2[-3:])\n",
    "print(element3[-3:])"
   ]
  },
  {
   "cell_type": "code",
   "execution_count": 27,
   "id": "cff709e8",
   "metadata": {},
   "outputs": [
    {
     "name": "stdout",
     "output_type": "stream",
     "text": [
      "\n",
      "[]\n",
      "[]\n"
     ]
    }
   ],
   "source": [
    "# data while the slice is [3 : 3] does it return empty?\n",
    "\n",
    "print(element[3:3])\n",
    "print(data[3:3, 4:4])\n",
    "print(data[3:3, :])\n"
   ]
  },
  {
   "cell_type": "markdown",
   "id": "b01b7c6a",
   "metadata": {},
   "source": [
    "### Array Operations"
   ]
  },
  {
   "cell_type": "code",
   "execution_count": 28,
   "id": "45e6b96c",
   "metadata": {},
   "outputs": [
    {
     "name": "stdout",
     "output_type": "stream",
     "text": [
      "A = \n",
      "[[1 2 3]\n",
      " [4 5 6]\n",
      " [7 8 9]]\n",
      "B =\n",
      "[[1 2 3 1 2 3]\n",
      " [4 5 6 4 5 6]\n",
      " [7 8 9 7 8 9]]\n",
      "C = \n",
      "[[1 2 3]\n",
      " [4 5 6]\n",
      " [7 8 9]\n",
      " [1 2 3]\n",
      " [4 5 6]\n",
      " [7 8 9]]\n"
     ]
    }
   ],
   "source": [
    "import numpy\n",
    "\n",
    "A = numpy.array([[1,2,3], [4,5,6], [7,8,9]])\n",
    "\n",
    "print('A = ')\n",
    "print(A)\n",
    "\n",
    "B = numpy.hstack([A, A]) # hstack: horizontal stack\n",
    "print('B =')\n",
    "print(B)\n",
    "\n",
    "C = numpy.vstack([A, A]) # vstack: vertical stack\n",
    "print('C = ')\n",
    "print(C)"
   ]
  },
  {
   "cell_type": "code",
   "execution_count": 29,
   "id": "72410712",
   "metadata": {},
   "outputs": [
    {
     "name": "stdout",
     "output_type": "stream",
     "text": [
      "[1 4 7]\n"
     ]
    }
   ],
   "source": [
    "# make new variable with array that contain FIRST and LAST column of A and stack them to 3 x 2 array!\n",
    "# wow thats confusing! I open the solution tab for this one, how amazing they could think something of this!\n",
    "\n",
    "# Try 1\n",
    "\n",
    "print(A[:, 0])"
   ]
  },
  {
   "cell_type": "code",
   "execution_count": 30,
   "id": "99ddff9a",
   "metadata": {},
   "outputs": [
    {
     "name": "stdout",
     "output_type": "stream",
     "text": [
      "[[1]\n",
      " [4]\n",
      " [7]]\n"
     ]
    }
   ],
   "source": [
    "# not what we wanted, dimension with only one member dropped, so they wont stack\n",
    "# the solution mentioned \"the index itself can be a slice or array\"\n",
    "\n",
    "print(A[:, :1])"
   ]
  },
  {
   "cell_type": "code",
   "execution_count": 31,
   "id": "715d90e2",
   "metadata": {},
   "outputs": [
    {
     "name": "stdout",
     "output_type": "stream",
     "text": [
      "[[1 3]\n",
      " [4 6]\n",
      " [7 9]]\n"
     ]
    }
   ],
   "source": [
    "# that one column, so the row index is indefinite, means, they take all from that row,\n",
    "# and the column index is started at zero and go-until-but-not-include 1 which means column index 0. \n",
    "# so now, we use hstack to stack 2 array horizontally, one column index 0 other -1\n",
    "\n",
    "D = numpy.hstack((A[:, :1], A[:, -1:]))\n",
    "print(D)"
   ]
  },
  {
   "cell_type": "code",
   "execution_count": 32,
   "id": "175f9d90",
   "metadata": {},
   "outputs": [
    {
     "name": "stdout",
     "output_type": "stream",
     "text": [
      "[[1 3]\n",
      " [4 6]\n",
      " [7 9]]\n"
     ]
    }
   ],
   "source": [
    "# or you can use delete function\n",
    "\n",
    "E = numpy.delete(A, 1, 1)\n",
    "print(E)"
   ]
  },
  {
   "cell_type": "markdown",
   "id": "1d42ae03",
   "metadata": {},
   "source": [
    "Personal comment: To be honest, I do not understand well how this went. Will skip and learn them later."
   ]
  },
  {
   "cell_type": "markdown",
   "id": "20f52ae6",
   "metadata": {},
   "source": [
    "### Change in Inflammation"
   ]
  },
  {
   "cell_type": "markdown",
   "id": "3afcbf08",
   "metadata": {},
   "source": [
    "Patient data is *longitudinal* which means *each row represents a series of observations relating to one individual*. This means **this means the change in inflammation over time is a meaningful concept**.  \n",
    "  \n",
    "`numpy.diff()` function takes an array and returns the differences between two successive values."
   ]
  },
  {
   "cell_type": "code",
   "execution_count": 33,
   "id": "06263a8d",
   "metadata": {},
   "outputs": [
    {
     "name": "stdout",
     "output_type": "stream",
     "text": [
      "[0. 0. 2. 0. 4. 2. 2.]\n",
      "(7,)\n"
     ]
    }
   ],
   "source": [
    "# taking patient number 3 (index 3) data and take 7 days of observation (7 column)\n",
    "patient3_week1 = data[3, :7]\n",
    "print(patient3_week1)\n",
    "print(patient3_week1.shape)"
   ]
  },
  {
   "cell_type": "code",
   "execution_count": 34,
   "id": "9e240206",
   "metadata": {},
   "outputs": [
    {
     "data": {
      "text/plain": [
       "array([ 0.,  2., -2.,  4., -2.,  0.])"
      ]
     },
     "execution_count": 34,
     "metadata": {},
     "output_type": "execute_result"
    }
   ],
   "source": [
    "# if we use numpy.diff() on patient_3\n",
    "# remember: 2 successive values! the second will subtracted from the first, third from second, etc.\n",
    "\n",
    "numpy.diff(patient3_week1)"
   ]
  },
  {
   "cell_type": "markdown",
   "id": "4c63e59d",
   "metadata": {},
   "source": [
    "When using `numpy.diff` the row will shortened by 1 element, since the first one is subtracted (ed.: my understanding).  \n",
    "  \n",
    "In multidimensional array, axis is used. Since `row` is give a meaningful, longitudinal data, we will use 1. If we use 0 instead, it will yield an array with inflammation data from all patients in 1 day, since we want to get a meaningful, longitudinal data from *one patient* we use 1 row with all column."
   ]
  },
  {
   "cell_type": "code",
   "execution_count": 35,
   "id": "416d0c97",
   "metadata": {},
   "outputs": [
    {
     "name": "stdout",
     "output_type": "stream",
     "text": [
      "[[ 0.  1.  2. ...  1. -3.  0.]\n",
      " [ 1.  1. -1. ...  0. -1.  1.]\n",
      " [ 1.  0.  2. ...  0. -1.  0.]\n",
      " ...\n",
      " [ 1.  0.  0. ... -1.  0.  0.]\n",
      " [ 0.  0.  1. ... -2.  2. -2.]\n",
      " [ 0.  1. -1. ... -2.  0. -1.]]\n"
     ]
    }
   ],
   "source": [
    "F = numpy.diff(data, axis=1)\n",
    "print(F)"
   ]
  },
  {
   "cell_type": "code",
   "execution_count": 36,
   "id": "ee347e75",
   "metadata": {},
   "outputs": [
    {
     "name": "stdout",
     "output_type": "stream",
     "text": [
      "(60, 39)\n"
     ]
    }
   ],
   "source": [
    "print(F.shape)"
   ]
  },
  {
   "cell_type": "markdown",
   "id": "fb72de58",
   "metadata": {},
   "source": [
    "The column is shortened by one, since the first column is subtracted by the second. By the solution word: `there is one fewer difference than there are columns in the data`"
   ]
  },
  {
   "cell_type": "markdown",
   "id": "ee7f38cb",
   "metadata": {},
   "source": [
    "Question: how to find the **largest** change in inflammation **for each** patient? Does it matter if the change in inflammation is an increase or decrease?  \n",
    "  \n",
    "Largest: `numpy.max`  \n",
    "Change: `numpy.diff`  \n",
    "Each patient: `axis=1`  \n",
    "  \n",
    "the `numpy.diff` will return row with differences per day, because we seek the data/patient, the axis is 1 (rows). It will return a N x N array with differences. `numpy.max` will return largest data from each row."
   ]
  },
  {
   "cell_type": "code",
   "execution_count": 40,
   "id": "15f51fe3",
   "metadata": {},
   "outputs": [
    {
     "name": "stdout",
     "output_type": "stream",
     "text": [
      "[ 7. 12. 11. 10. 11. 13. 10.  8. 10. 10.  7.  7. 13.  7. 10. 10.  8. 10.\n",
      "  9. 10. 13.  7. 12.  9. 12. 11. 10. 10.  7. 10. 11. 10.  8. 11. 12. 10.\n",
      "  9. 10. 13. 10.  7.  7. 10. 13. 12.  8.  8. 10. 10.  9.  8. 13. 10.  7.\n",
      " 10.  8. 12. 10.  7. 12.]\n",
      "(60,)\n"
     ]
    }
   ],
   "source": [
    "h = numpy.max(numpy.diff(data, axis=1), axis=1)\n",
    "print(h)\n",
    "print(h.shape)"
   ]
  }
 ],
 "metadata": {
  "kernelspec": {
   "display_name": "Python 3 (ipykernel)",
   "language": "python",
   "name": "python3"
  },
  "language_info": {
   "codemirror_mode": {
    "name": "ipython",
    "version": 3
   },
   "file_extension": ".py",
   "mimetype": "text/x-python",
   "name": "python",
   "nbconvert_exporter": "python",
   "pygments_lexer": "ipython3",
   "version": "3.9.7"
  }
 },
 "nbformat": 4,
 "nbformat_minor": 5
}
