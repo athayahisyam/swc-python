{
 "cells": [
  {
   "cell_type": "markdown",
   "id": "eec16765",
   "metadata": {},
   "source": [
    "# HEP Software Training: Learn Programming with Python\n",
    "## Chapter 5: Repeating Actions with Loops\n",
    "\n",
    "Created by: [Hisyam Athaya](https://athayahisyam.github.io/)  \n",
    "Learning portfolio based on [SWCarpentry Programming with Python: Python Fundamentals](https://swcarpentry.github.io/python-novice-inflammation/)  \n",
    "Visit [HEP Software Training](https://hepsoftwarefoundation.org/training/curriculum.html) for more information."
   ]
  },
  {
   "cell_type": "code",
   "execution_count": 1,
   "id": "f40dd8ee",
   "metadata": {},
   "outputs": [],
   "source": [
    "odds = [1,3,5,7]"
   ]
  },
  {
   "cell_type": "markdown",
   "id": "b3df3112",
   "metadata": {},
   "source": [
    "A list, in Python, is *an ordered collection of elements, with each of them has a unique number associated with it - index*. This means we can print each of them using their indices."
   ]
  },
  {
   "cell_type": "code",
   "execution_count": 2,
   "id": "7e3af214",
   "metadata": {},
   "outputs": [
    {
     "name": "stdout",
     "output_type": "stream",
     "text": [
      "1\n",
      "3\n",
      "5\n",
      "7\n"
     ]
    }
   ],
   "source": [
    "print(odds[0])\n",
    "print(odds[1])\n",
    "print(odds[2])\n",
    "print(odds[3])"
   ]
  },
  {
   "cell_type": "markdown",
   "id": "6c72a67f",
   "metadata": {},
   "source": [
    "This method is bad, because 3 reasons:  \n",
    "  \n",
    "1. **Not scalable**. If we need to print a list with hundreds of elements, it becomes impractical. It might even be easier to type them in manually.\n",
    "2. **Difficult to maintain**. If we want to add more operations to the list elementes, we would type more line of codes. This is impractical and problematic for larger lists.\n",
    "3. **Fragile**. If we use the code for a list that had more elements than we initially envisioned, it only display the list partially. If we use the code on a list that is shorter, it will cause error due to non-existing value in the declared indexes."
   ]
  },
  {
   "cell_type": "markdown",
   "id": "fcdee819",
   "metadata": {},
   "source": [
    "The solution is using **for loops**. Its shorter and more robust i.e. flexible for any lists."
   ]
  },
  {
   "cell_type": "code",
   "execution_count": 5,
   "id": "dfff3e9d",
   "metadata": {},
   "outputs": [
    {
     "name": "stdout",
     "output_type": "stream",
     "text": [
      "1\n",
      "3\n",
      "5\n",
      "7\n"
     ]
    }
   ],
   "source": [
    "odds = [1,3,5,7]\n",
    "for num in odds:\n",
    "    print(num)"
   ]
  },
  {
   "cell_type": "code",
   "execution_count": 7,
   "id": "68500065",
   "metadata": {},
   "outputs": [
    {
     "name": "stdout",
     "output_type": "stream",
     "text": [
      "1\n",
      "3\n",
      "5\n",
      "7\n",
      "9\n"
     ]
    }
   ],
   "source": [
    "odds.append(9)\n",
    "for num in odds:\n",
    "    print(num)"
   ]
  },
  {
   "cell_type": "code",
   "execution_count": 8,
   "id": "e8712c21",
   "metadata": {},
   "outputs": [
    {
     "name": "stdout",
     "output_type": "stream",
     "text": [
      "1\n",
      "3\n",
      "5\n",
      "7\n"
     ]
    }
   ],
   "source": [
    "odds.pop(4)\n",
    "for num in odds:\n",
    "    print(num)"
   ]
  },
  {
   "cell_type": "markdown",
   "id": "cee63363",
   "metadata": {},
   "source": [
    "The general form of for loop is:\n",
    "```\n",
    "for variable in collection:\n",
    "    do things using variable, such as print()\n",
    "```"
   ]
  },
  {
   "cell_type": "markdown",
   "id": "34a60c43",
   "metadata": {},
   "source": [
    "The general visualization on how the `for` loop worked is describe on the image below:\n",
    "\n",
    "![For Loop Visualization](img/05-loops_image_num.png)"
   ]
  },
  {
   "cell_type": "markdown",
   "id": "b9a8f984",
   "metadata": {},
   "source": [
    "Each number in `odds` variable is assigned as `num` and printed one by one. Numbered lines indicated which loop cycle in which each `num` is printed. 1 - 6.\n",
    "  \n",
    "Remember Python is using indentation to denotes the body of the loop, and there is no command signify the end of the loop. Everything indented after the starting command of the loop (here: `for num in odds:`) is belongs to the loop."
   ]
  },
  {
   "cell_type": "code",
   "execution_count": 9,
   "id": "fbad8821",
   "metadata": {},
   "outputs": [
    {
     "name": "stdout",
     "output_type": "stream",
     "text": [
      "1\n",
      "3\n",
      "5\n",
      "7\n"
     ]
    }
   ],
   "source": [
    "# remember that variable name are defined by the user, however it is useful to name them in line with\n",
    "# their usage, here num denotes number. You can use other like:\n",
    "\n",
    "for banana in odds:\n",
    "    print(banana)"
   ]
  },
  {
   "cell_type": "markdown",
   "id": "9fd30185",
   "metadata": {},
   "source": [
    "Here's another loop that repeatedly updates a variable:"
   ]
  },
  {
   "cell_type": "code",
   "execution_count": 10,
   "id": "daae594e",
   "metadata": {},
   "outputs": [
    {
     "name": "stdout",
     "output_type": "stream",
     "text": [
      "There are 3 names in this list.\n"
     ]
    }
   ],
   "source": [
    "length = 0\n",
    "names = ['curie', 'Darwin', 'Turing']\n",
    "for value in names:\n",
    "    length = length + 1\n",
    "print('There are', length, 'names in this list.')"
   ]
  },
  {
   "cell_type": "markdown",
   "id": "f008be06",
   "metadata": {},
   "source": [
    "The tracing of these program is as follow:\n",
    "1. We declare a variable, `length` for later usage, with 0 items in it.\n",
    "2. There are 3 values in list\n",
    "3. The command to start the loop will read and assign the three values in `value` variables. (Statement on line 3)\n",
    "4. Looping statement (Statement on line 4) will be executed 3 times, following the amount of `value` variables:\n",
    "    1. The first execution will add 1 to `length` variable, which declared 0 before. Now, the `length` is 1\n",
    "    2. The second executiion will add 1 again, now `length` is 2.\n",
    "    3. The third execution (or iteration) will add 1 again, now `length` is 3.\n",
    "5. With the `length` variable equals to 3, the print statement (statement on line 5) will print 3."
   ]
  },
  {
   "cell_type": "markdown",
   "id": "a27e1cab",
   "metadata": {},
   "source": [
    "Loop variable can be used even after the loop is completed, and can be-reused as previously defined."
   ]
  },
  {
   "cell_type": "code",
   "execution_count": 11,
   "id": "d73910be",
   "metadata": {},
   "outputs": [
    {
     "name": "stdout",
     "output_type": "stream",
     "text": [
      "Curie\n",
      "Darwin\n",
      "Turing\n",
      "after the loop, variable name is: Turing\n"
     ]
    }
   ],
   "source": [
    "name = 'Rosalind'\n",
    "for name in ['Curie', 'Darwin', 'Turing']:\n",
    "    print(name)\n",
    "print('after the loop, variable name is:', name)"
   ]
  },
  {
   "cell_type": "markdown",
   "id": "a7e27841",
   "metadata": {},
   "source": [
    "Note: there are function in Python that can be tasked to find the length of an object called `len()`"
   ]
  },
  {
   "cell_type": "code",
   "execution_count": 12,
   "id": "fc2aa550",
   "metadata": {},
   "outputs": [
    {
     "name": "stdout",
     "output_type": "stream",
     "text": [
      "4\n"
     ]
    }
   ],
   "source": [
    "print(len(odds))"
   ]
  },
  {
   "cell_type": "code",
   "execution_count": 13,
   "id": "e6912ec6",
   "metadata": {},
   "outputs": [
    {
     "name": "stdout",
     "output_type": "stream",
     "text": [
      "9\n"
     ]
    }
   ],
   "source": [
    "print(len([1,2,3,4,5,6,7,8,9]))"
   ]
  },
  {
   "cell_type": "markdown",
   "id": "2277cfff",
   "metadata": {},
   "source": [
    "In python, `range()` function can generates a sequence of number. It accepts 3 parameters:\n",
    "- If one parameter is given, `range()` will genetares a sequence of that length, starting at zero and incrementing by 1. For example `range(3)` produces numbers `0, 1, 2`.\n",
    "- If two parameters is given, `range` starts at the first and ends just before the second, incrementing by one. For example `range(2, 5)` will produce `2,3,4`.\n",
    "- If `range()` is given 3 parameters, it starts at the first one, ends just before the second one, and increments by the third one. For example: `range(3, 10, 2)` produces `3,5,7,9`"
   ]
  },
  {
   "cell_type": "markdown",
   "id": "7de43f3d",
   "metadata": {},
   "source": [
    "Assignment: using `range()`, write a loop that print 3 natural numbers."
   ]
  },
  {
   "cell_type": "code",
   "execution_count": 16,
   "id": "e488e0f0",
   "metadata": {},
   "outputs": [
    {
     "name": "stdout",
     "output_type": "stream",
     "text": [
      "1\n",
      "2\n",
      "3\n"
     ]
    }
   ],
   "source": [
    "for i in range(3): # prints 0, 1, 2\n",
    "    i = i + 1 # add 1 before print, therefore, 0+1 = 1, 1+1=2, 2+1=3\n",
    "    print(i)"
   ]
  },
  {
   "cell_type": "code",
   "execution_count": 17,
   "id": "a1ad7c5e",
   "metadata": {},
   "outputs": [
    {
     "name": "stdout",
     "output_type": "stream",
     "text": [
      "1\n",
      "2\n",
      "3\n"
     ]
    }
   ],
   "source": [
    "for i in range(1,4):\n",
    "    print(i)"
   ]
  },
  {
   "cell_type": "markdown",
   "id": "49ab90a9",
   "metadata": {},
   "source": [
    "Assignment: use loop to replicate exponentiation process. Here replicate `5 ** 3` only using loops."
   ]
  },
  {
   "cell_type": "code",
   "execution_count": 26,
   "id": "05009b64",
   "metadata": {},
   "outputs": [
    {
     "name": "stdout",
     "output_type": "stream",
     "text": [
      "125\n"
     ]
    }
   ],
   "source": [
    "# 5 ** 3 is equal to 5 * 5 * 5, so:\n",
    "# declare i\n",
    "\n",
    "i = 1\n",
    "# a = range(3)  a = 0,1,2 => iterates 3 times\n",
    "for number in range(3):\n",
    "    i = i * 5\n",
    "print(i)"
   ]
  },
  {
   "cell_type": "markdown",
   "id": "4a74d307",
   "metadata": {},
   "source": [
    "Assignment: use a loop to calculate sum of elements in a list by adding and printing the final value."
   ]
  },
  {
   "cell_type": "code",
   "execution_count": 37,
   "id": "ebfb7254",
   "metadata": {},
   "outputs": [
    {
     "name": "stdout",
     "output_type": "stream",
     "text": [
      "562\n"
     ]
    }
   ],
   "source": [
    "addition = [124, 402, 36]\n",
    "summa = 0 # variable for output\n",
    "\n",
    "for numbers in addition:\n",
    "    summa = summa + numbers \n",
    "print(summa)"
   ]
  },
  {
   "cell_type": "markdown",
   "id": "fee95f0e",
   "metadata": {},
   "source": [
    "Personal note: Hard to understand, always forget to use new variable.\n",
    "\n",
    "Remember next to use new empty variable and then assign and add new value to it\n",
    "\n",
    "```\n",
    "add = [...]\n",
    "var_sum = 0 # depends on the operation, if multiplication, then set 1, because x * 0 is zero.\n",
    "...\n",
    "for a in add:\n",
    "    var_sum = var_sum + a # here the values will be added one by one.\n",
    "...\n",
    "```\n"
   ]
  },
  {
   "cell_type": "markdown",
   "id": "e5702c08",
   "metadata": {},
   "source": [
    "Python function `enumerate` takes a sequence (e.g. list) and generates a new sequence of the same length. Each element of new sequence is a pair composed of the index (0,1,2) and the value of the original sequence."
   ]
  },
  {
   "cell_type": "code",
   "execution_count": 36,
   "id": "84f1dd1e",
   "metadata": {},
   "outputs": [
    {
     "name": "stdout",
     "output_type": "stream",
     "text": [
      "index list: [0, 1, 2]\n",
      "val num: [12, 13, 22]\n"
     ]
    }
   ],
   "source": [
    "lemma = [12,13,22]\n",
    "\n",
    "idx_num = []\n",
    "val_num = []\n",
    "\n",
    "for idx, val in enumerate(lemma):\n",
    "    idx_num.append(idx)\n",
    "    val_num.append(val)\n",
    "print('index list:', idx_num)\n",
    "print('val num:', val_num)"
   ]
  },
  {
   "cell_type": "markdown",
   "id": "e31e2a61",
   "metadata": {},
   "source": [
    "### Computing Value of Polynomial using Loop"
   ]
  },
  {
   "cell_type": "markdown",
   "id": "ae2bb647",
   "metadata": {},
   "source": [
    "In this sample, the coefficients supposed are:\n",
    "1. First element is the constant term,(coef * 1 or coef * x ** 0) \n",
    "2. Second element is the coefficient of linear term, (coef * x ** 1)\n",
    "3. Third element is the coefficient of the quadratic term, (coef * x ** 2)"
   ]
  },
  {
   "cell_type": "code",
   "execution_count": 38,
   "id": "663cac41",
   "metadata": {},
   "outputs": [
    {
     "name": "stdout",
     "output_type": "stream",
     "text": [
      "97\n"
     ]
    }
   ],
   "source": [
    "x = 5\n",
    "coefs = [2, 4, 3]\n",
    "y = coefs[0] * x ** 0 + coefs[1] * x**1 + coefs[2] * x**2\n",
    "print(y)"
   ]
  },
  {
   "cell_type": "markdown",
   "id": "38d51204",
   "metadata": {},
   "source": [
    "Assignment: Use loop and `enumerate(coefs)` which computes y of any polynomial, given x and coefs."
   ]
  },
  {
   "cell_type": "code",
   "execution_count": 45,
   "id": "8a2df7dd",
   "metadata": {},
   "outputs": [
    {
     "name": "stdout",
     "output_type": "stream",
     "text": [
      "97\n"
     ]
    }
   ],
   "source": [
    "x = 5\n",
    "y = 0\n",
    "coefs = [2, 4, 3]\n",
    "\n",
    "for idx, val in enumerate(coefs):\n",
    "    y = y + val * x ** idx\n",
    "print(y)"
   ]
  },
  {
   "cell_type": "markdown",
   "id": "ad2555c6",
   "metadata": {},
   "source": [
    "Personal comment: how can the index used as the power?  \n",
    "Oh, I forgot to read the supposed system :) "
   ]
  }
 ],
 "metadata": {
  "kernelspec": {
   "display_name": "Python 3 (ipykernel)",
   "language": "python",
   "name": "python3"
  },
  "language_info": {
   "codemirror_mode": {
    "name": "ipython",
    "version": 3
   },
   "file_extension": ".py",
   "mimetype": "text/x-python",
   "name": "python",
   "nbconvert_exporter": "python",
   "pygments_lexer": "ipython3",
   "version": "3.9.7"
  }
 },
 "nbformat": 4,
 "nbformat_minor": 5
}
