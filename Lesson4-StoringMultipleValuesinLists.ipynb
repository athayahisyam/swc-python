{
 "cells": [
  {
   "cell_type": "markdown",
   "id": "08b22e70",
   "metadata": {},
   "source": [
    "# HEP Software Training: Learn Programming with Python\n",
    "## Chapter 4: Storing Multiple Values in Lists\n",
    "\n",
    "Created by: [Hisyam Athaya](https://athayahisyam.github.io/)  \n",
    "Learning portfolio based on [SWCarpentry Programming with Python: Python Fundamentals](https://swcarpentry.github.io/python-novice-inflammation/)  \n",
    "Visit [HEP Software Training](https://hepsoftwarefoundation.org/training/curriculum.html) for more information."
   ]
  },
  {
   "cell_type": "markdown",
   "id": "838aba9c",
   "metadata": {},
   "source": [
    "### Python Lists\n",
    "\n",
    "Python lists are built into language so do not need any library to use them."
   ]
  },
  {
   "cell_type": "code",
   "execution_count": 1,
   "id": "77841d99",
   "metadata": {},
   "outputs": [
    {
     "name": "stdout",
     "output_type": "stream",
     "text": [
      "odds are: [1, 3, 5, 7]\n"
     ]
    }
   ],
   "source": [
    "odds=[1, 3, 5, 7]\n",
    "print('odds are:', odds)"
   ]
  },
  {
   "cell_type": "code",
   "execution_count": 2,
   "id": "0fd40859",
   "metadata": {},
   "outputs": [
    {
     "name": "stdout",
     "output_type": "stream",
     "text": [
      "first element: 1\n",
      "last element: 3\n",
      "-1 element: 7\n"
     ]
    }
   ],
   "source": [
    "# accessing element in a list using indices\n",
    "\n",
    "print('first element:', odds[0])\n",
    "print('last element:', odds[1])\n",
    "print('-1 element:', odds[-1])\n",
    "\n",
    "#negative list gives last element first. So -1 meant first from the last, -2 meant second from the last, etc."
   ]
  },
  {
   "cell_type": "markdown",
   "id": "c1bec826",
   "metadata": {},
   "source": [
    "We can change the values in a list, but we cannot change individual characters in a string."
   ]
  },
  {
   "cell_type": "code",
   "execution_count": 3,
   "id": "245940a2",
   "metadata": {},
   "outputs": [
    {
     "name": "stdout",
     "output_type": "stream",
     "text": [
      "names is originally: ['Curie', 'Darwing', 'Al-Khwarizmi']\n",
      "final value of names:  ['Curie', 'Darwin', 'Al-Khwarizmi']\n"
     ]
    }
   ],
   "source": [
    "# Change value in list\n",
    "\n",
    "names = [\"Curie\", \"Darwing\", \"Al-Khwarizmi\"] # Typo in Darwin's name\n",
    "print('names is originally:', names)\n",
    "names[1] = 'Darwin' # attempt to correct the name\n",
    "print('final value of names: ', names)"
   ]
  },
  {
   "cell_type": "code",
   "execution_count": 15,
   "id": "070a5dcd",
   "metadata": {},
   "outputs": [
    {
     "ename": "TypeError",
     "evalue": "'str' object does not support item assignment",
     "output_type": "error",
     "traceback": [
      "\u001b[0;31m---------------------------------------------------------------------------\u001b[0m",
      "\u001b[0;31mTypeError\u001b[0m                                 Traceback (most recent call last)",
      "\u001b[0;32m/tmp/ipykernel_5360/392714957.py\u001b[0m in \u001b[0;36m<module>\u001b[0;34m\u001b[0m\n\u001b[1;32m      2\u001b[0m \u001b[0;34m\u001b[0m\u001b[0m\n\u001b[1;32m      3\u001b[0m \u001b[0mname\u001b[0m \u001b[0;34m=\u001b[0m \u001b[0;34m'Darwin'\u001b[0m\u001b[0;34m\u001b[0m\u001b[0;34m\u001b[0m\u001b[0m\n\u001b[0;32m----> 4\u001b[0;31m \u001b[0mname\u001b[0m\u001b[0;34m[\u001b[0m\u001b[0;36m0\u001b[0m\u001b[0;34m]\u001b[0m \u001b[0;34m=\u001b[0m \u001b[0;34m'd'\u001b[0m\u001b[0;34m\u001b[0m\u001b[0;34m\u001b[0m\u001b[0m\n\u001b[0m",
      "\u001b[0;31mTypeError\u001b[0m: 'str' object does not support item assignment"
     ]
    }
   ],
   "source": [
    "# Change value in string\n",
    "\n",
    "# name = 'Darwin'\n",
    "# name[0] = 'd'"
   ]
  },
  {
   "cell_type": "markdown",
   "id": "2e8e2628",
   "metadata": {},
   "source": [
    "Data which can be modified in place is called `mutable`, while data which cannot be modified is called `immutable`. **String and numbers are immutable**. This does not mean that variable with string or numbers are constants, but when one change the value of a string, we can only replace the old value in them with a completely new value.  \n",
    "  \n",
    "List and Array are `mutable`. It can be modified after being created. We can modify individual elements, append new ones, reorder the list. Some other operations, like sorting, can be modified whether it will change the data in place (data inside the list) or, by using a function, can return a modified copy and leave the original intact."
   ]
  },
  {
   "cell_type": "code",
   "execution_count": 5,
   "id": "393b66df",
   "metadata": {},
   "outputs": [
    {
     "name": "stdout",
     "output_type": "stream",
     "text": [
      "Ingredients in my salsa:  ['hot peppers', 'onions', 'cilantro', 'tomatoes']\n"
     ]
    }
   ],
   "source": [
    "# careful when modifying data in-place. If two variables refer to the same list,\n",
    "# and you modify the list value, it will change for both variable!\n",
    "\n",
    "salsa = ['peppers', 'onions', 'cilantro', 'tomatoes']\n",
    "my_salsa = salsa  # my_salsa and salsa point the *same* list data in memory\n",
    "salsa[0] = 'hot peppers'\n",
    "print('Ingredients in my salsa: ', my_salsa)"
   ]
  },
  {
   "cell_type": "code",
   "execution_count": 6,
   "id": "dfc62d13",
   "metadata": {},
   "outputs": [
    {
     "name": "stdout",
     "output_type": "stream",
     "text": [
      "student class 2021: ['rudy', 'moses', 'ricky', 'thumper']\n",
      "student class 2022: ['aiden', 'moses', 'ricky', 'thumper']\n"
     ]
    }
   ],
   "source": [
    "# to make a variable with mutable values independent,\n",
    "# we need to make a copy of the value when we asssign it\n",
    "\n",
    "student_2021 = ['rudy', 'moses', 'ricky', 'thumper']\n",
    "student_2022 = list(student_2021) # makes a *copy* of the list\n",
    "\n",
    "student_2022[0] = 'aiden'\n",
    "print('student class 2021:', student_2021)\n",
    "print('student class 2022:', student_2022)"
   ]
  },
  {
   "cell_type": "markdown",
   "id": "1ff133a3",
   "metadata": {},
   "source": [
    "Modifying data in-place is one of the pitfalls in programing, it can be very difficult to understand. However, it is often more efficient rather than making a copy of the data and modify the copy when you only modify a small change.  \n",
    "  \n",
    "You should consider both of these aspects."
   ]
  },
  {
   "cell_type": "markdown",
   "id": "a4310c1a",
   "metadata": {},
   "source": [
    "### Nested Lists"
   ]
  },
  {
   "cell_type": "code",
   "execution_count": 7,
   "id": "573c9800",
   "metadata": {},
   "outputs": [
    {
     "name": "stdout",
     "output_type": "stream",
     "text": [
      "[['pepper', 'zucchini', 'onion'], ['cabbage', 'lettuce', 'garlic'], ['apple', 'pear', 'banana']]\n"
     ]
    }
   ],
   "source": [
    "x = [\n",
    "    ['pepper', 'zucchini', 'onion'],\n",
    "    ['cabbage', 'lettuce', 'garlic'],\n",
    "    ['apple', 'pear', 'banana']\n",
    "    ]\n",
    "\n",
    "print(x)"
   ]
  },
  {
   "cell_type": "markdown",
   "id": "021d8574",
   "metadata": {},
   "source": [
    "To help understand how indexing works in this kind of list, see this image of pepper in the bottle.\n",
    "\n",
    "![Pepper Analogy](img/indexing_lists_python.png)"
   ]
  },
  {
   "cell_type": "code",
   "execution_count": 8,
   "id": "0e5da133",
   "metadata": {},
   "outputs": [
    {
     "name": "stdout",
     "output_type": "stream",
     "text": [
      "[['pepper', 'zucchini', 'onion']]\n"
     ]
    }
   ],
   "source": [
    "print([x[0]])\n",
    "\n",
    "# print the the outer list, the inner list and the content"
   ]
  },
  {
   "cell_type": "code",
   "execution_count": 9,
   "id": "f80130a5",
   "metadata": {},
   "outputs": [
    {
     "name": "stdout",
     "output_type": "stream",
     "text": [
      "['pepper', 'zucchini', 'onion']\n"
     ]
    }
   ],
   "source": [
    "print(x[0])\n",
    "\n",
    "# print the inner list and the content only"
   ]
  },
  {
   "cell_type": "code",
   "execution_count": 10,
   "id": "f31ab6bf",
   "metadata": {},
   "outputs": [
    {
     "name": "stdout",
     "output_type": "stream",
     "text": [
      "pepper\n"
     ]
    }
   ],
   "source": [
    "print(x[0][0])\n",
    "\n",
    "# print the first content in the first array"
   ]
  },
  {
   "cell_type": "markdown",
   "id": "8ee9b91d",
   "metadata": {},
   "source": [
    "### Heterogeneous List"
   ]
  },
  {
   "cell_type": "code",
   "execution_count": 11,
   "id": "f3b87e20",
   "metadata": {},
   "outputs": [
    {
     "name": "stdout",
     "output_type": "stream",
     "text": [
      "[10, 12.5, 'unknown']\n"
     ]
    }
   ],
   "source": [
    "sample_age = [10, 12.5, 'unknown']\n",
    "\n",
    "print(sample_age)"
   ]
  },
  {
   "cell_type": "markdown",
   "id": "171a282e",
   "metadata": {},
   "source": [
    "### Modifying List"
   ]
  },
  {
   "cell_type": "code",
   "execution_count": 12,
   "id": "bb10ad54",
   "metadata": {},
   "outputs": [
    {
     "name": "stdout",
     "output_type": "stream",
     "text": [
      "[1, 3, 5, 7]\n"
     ]
    }
   ],
   "source": [
    "print(odds)"
   ]
  },
  {
   "cell_type": "code",
   "execution_count": 13,
   "id": "8baef6bc",
   "metadata": {},
   "outputs": [
    {
     "name": "stdout",
     "output_type": "stream",
     "text": [
      "odds after adding a value: [1, 3, 5, 7, 11]\n"
     ]
    }
   ],
   "source": [
    "# append\n",
    "\n",
    "odds.append(11)\n",
    "print('odds after adding a value:', odds)"
   ]
  },
  {
   "cell_type": "code",
   "execution_count": 14,
   "id": "531fd875",
   "metadata": {},
   "outputs": [
    {
     "name": "stdout",
     "output_type": "stream",
     "text": [
      "odds after removing first element [3, 5, 7, 11]\n",
      "removed_element: 1\n"
     ]
    }
   ],
   "source": [
    "# remove element\n",
    "# insert the removed element to new variable\n",
    "\n",
    "removed_elem = odds.pop(0)\n",
    "print('odds after removing first element', odds)\n",
    "print('removed_element:', removed_elem)"
   ]
  },
  {
   "cell_type": "code",
   "execution_count": 16,
   "id": "750ac520",
   "metadata": {},
   "outputs": [
    {
     "name": "stdout",
     "output_type": "stream",
     "text": [
      "odds after reversing [11, 7, 5, 3]\n"
     ]
    }
   ],
   "source": [
    "# reverse the order\n",
    "\n",
    "odds.reverse()\n",
    "print('odds after reversing', odds)"
   ]
  },
  {
   "cell_type": "markdown",
   "id": "0db5668d",
   "metadata": {},
   "source": [
    "In modifying in-pkace, remember that Python treats lists in counter-intuitive way.  \n",
    "\n",
    "In this sample, we make list, (attempt to) copy it and modify the list, we can cause all sorts of trouble. Look at these samples:"
   ]
  },
  {
   "cell_type": "code",
   "execution_count": 17,
   "id": "cf8218b4",
   "metadata": {},
   "outputs": [
    {
     "name": "stdout",
     "output_type": "stream",
     "text": [
      "primes: [1, 3, 5, 7, 2]\n",
      "odds: [1, 3, 5, 7, 2]\n"
     ]
    }
   ],
   "source": [
    "odds = [1, 3, 5, 7]\n",
    "primes = odds\n",
    "primes.append(2)\n",
    "print('primes:', primes)\n",
    "print('odds:', odds)"
   ]
  },
  {
   "cell_type": "markdown",
   "id": "1d9748fc",
   "metadata": {},
   "source": [
    "Note that when we `append(2)` the primes, it also did the same thing to the odds. This is because Python stores a list in a memory, then **then can use multiple names to refer the same list**. If we want to copy a (simple) list, we can again use `list()` function, so we do not modify the list we did not mean to."
   ]
  },
  {
   "cell_type": "code",
   "execution_count": 20,
   "id": "fa944fe2",
   "metadata": {},
   "outputs": [
    {
     "name": "stdout",
     "output_type": "stream",
     "text": [
      "primes: [1, 3, 5, 7, 2]\n",
      "odds: [1, 3, 5, 7]\n"
     ]
    }
   ],
   "source": [
    "odds = [1, 3, 5, 7]\n",
    "primes = list(odds) # copying the list\n",
    "primes.append(2)\n",
    "print('primes:', primes)\n",
    "print('odds:', odds)"
   ]
  },
  {
   "cell_type": "code",
   "execution_count": 26,
   "id": "0ad6c15a",
   "metadata": {},
   "outputs": [
    {
     "name": "stdout",
     "output_type": "stream",
     "text": [
      "group: Drosophila\n",
      "species: melanogaster\n"
     ]
    }
   ],
   "source": [
    "# subsets of lists and strings can be accessed by specifying range of value in brackets,\n",
    "# similar to how we accessed ranges of positions in a NumPy Array. \n",
    "# this is commonly referred as 'slicing' the list/string\n",
    "\n",
    "# slicing strings\n",
    "\n",
    "binomial_name = 'Drosophila melanogaster'\n",
    "\n",
    "group = binomial_name[0:10] #slice subset 0 to 10\n",
    "print('group:', group)\n",
    "\n",
    "species = binomial_name[11:23] #slice subset 11:23\n",
    "print('species:', species)"
   ]
  },
  {
   "cell_type": "code",
   "execution_count": 25,
   "id": "8ebb191b",
   "metadata": {},
   "outputs": [
    {
     "name": "stdout",
     "output_type": "stream",
     "text": [
      "autosomes: ['2', '3', '4']\n",
      "last: 4\n"
     ]
    }
   ],
   "source": [
    "# slicing lists\n",
    "\n",
    "chromosomes = ['X', 'Y', '2', '3', '4']\n",
    "autosomes = chromosomes[2:5]\n",
    "print('autosomes:', autosomes)\n",
    "\n",
    "last=chromosomes[-1]\n",
    "print('last:', last)"
   ]
  },
  {
   "cell_type": "markdown",
   "id": "9691ef8f",
   "metadata": {},
   "source": [
    "Assignment: Use slicing to access only the last four characters of a string or entries or of a list"
   ]
  },
  {
   "cell_type": "code",
   "execution_count": 45,
   "id": "bbbf86cf",
   "metadata": {},
   "outputs": [],
   "source": [
    "string_for_slicing = 'Observation date: 02-Feb-2013'\n",
    "list_for_slicing= [['fluorine', 'F'],\n",
    "                   ['chlorine', 'Cl'],\n",
    "                   ['bromine', 'Br'],\n",
    "                   ['iodine', 'I'],\n",
    "                   ['astatine', 'At']]"
   ]
  },
  {
   "cell_type": "code",
   "execution_count": 43,
   "id": "0d494d71",
   "metadata": {},
   "outputs": [
    {
     "name": "stdout",
     "output_type": "stream",
     "text": [
      "2013\n"
     ]
    }
   ],
   "source": [
    "# slice 2013 from string_for_slicing\n",
    "\n",
    "slc1 = string_for_slicing[-4:]\n",
    "print(slc1)"
   ]
  },
  {
   "cell_type": "code",
   "execution_count": 54,
   "id": "2116933a",
   "metadata": {},
   "outputs": [
    {
     "name": "stdout",
     "output_type": "stream",
     "text": [
      "[['chlorine', 'Cl'], ['bromine', 'Br'], ['iodine', 'I'], ['astatine', 'At']]\n"
     ]
    }
   ],
   "source": [
    "# slice 4 last entry from list_for_slicing\n",
    "\n",
    "slc2 = list_for_slicing[-4:]\n",
    "print(slc2)"
   ]
  },
  {
   "cell_type": "code",
   "execution_count": 60,
   "id": "251fb4c2",
   "metadata": {},
   "outputs": [
    {
     "name": "stdout",
     "output_type": "stream",
     "text": [
      "subset: [2, 7, 17, 29]\n"
     ]
    }
   ],
   "source": [
    "# Non Continuous SLices\n",
    "# Adding step slices [begin:end:step]\n",
    "\n",
    "primes = [2, 3, 5, 7, 11, 13, 17, 19, 23, 29, 31, 37]\n",
    "subset = primes[0:12:3]\n",
    "\n",
    "print('subset:', subset)"
   ]
  },
  {
   "cell_type": "code",
   "execution_count": 61,
   "id": "0d025b95",
   "metadata": {},
   "outputs": [
    {
     "name": "stdout",
     "output_type": "stream",
     "text": [
      "[5, 13, 23, 37]\n"
     ]
    }
   ],
   "source": [
    "# Slicing from the 3rd entry.\n",
    "\n",
    "subset2 = primes[2:12:3]\n",
    "print(subset2)"
   ]
  },
  {
   "cell_type": "markdown",
   "id": "dc0ba055",
   "metadata": {},
   "source": [
    "Assignment: use the non continuous step on this variable of string to create new string."
   ]
  },
  {
   "cell_type": "code",
   "execution_count": 63,
   "id": "25ae24cd",
   "metadata": {},
   "outputs": [
    {
     "name": "stdout",
     "output_type": "stream",
     "text": [
      "I notpssgre ntesae\n"
     ]
    }
   ],
   "source": [
    "beatles = \"In an octopus's garden in the shade\"\n",
    "slc3 = beatles[0:35:2]\n",
    "print(slc3)"
   ]
  },
  {
   "cell_type": "code",
   "execution_count": 64,
   "id": "64a9aca6",
   "metadata": {},
   "outputs": [
    {
     "name": "stdout",
     "output_type": "stream",
     "text": [
      "Using 0 to begin range: Monday\n",
      "Omit the beginning: Monday\n"
     ]
    }
   ],
   "source": [
    "# If the slice begin from the beginning of string/list, we can omit the first index\n",
    "\n",
    "date = \"Monday 4 January 2016\"\n",
    "day = date[0:6]\n",
    "print(\"Using 0 to begin range:\", day)\n",
    "day = date[:6]\n",
    "print(\"Omit the beginning:\", day)"
   ]
  },
  {
   "cell_type": "code",
   "execution_count": 65,
   "id": "be575af2",
   "metadata": {},
   "outputs": [
    {
     "name": "stdout",
     "output_type": "stream",
     "text": [
      "With known last position: ['sep', 'oct', 'nov', 'dec']\n",
      "With len() to get last entry ['sep', 'oct', 'nov', 'dec']\n",
      "Omitting the last index: ['sep', 'oct', 'nov', 'dec']\n"
     ]
    }
   ],
   "source": [
    "# We can omit the ending index, if the slice is taken to the very end of sequence\n",
    "\n",
    "months = ['jan', 'feb', 'mar', 'apr', 'may', 'jun', 'jul', 'aug', 'sep', 'oct', 'nov', 'dec']\n",
    "sond = months[8:12]\n",
    "print(\"With known last position:\", sond)\n",
    "sond = months[8:len(months)]\n",
    "print(\"With len() to get last entry\", sond)\n",
    "sond = months[8:]\n",
    "print(\"Omitting the last index:\", sond)"
   ]
  },
  {
   "cell_type": "code",
   "execution_count": 67,
   "id": "42b4393a",
   "metadata": {},
   "outputs": [
    {
     "name": "stdout",
     "output_type": "stream",
     "text": [
      "[2, 4, 6, 8, 10, 2, 4, 6, 8, 10]\n"
     ]
    }
   ],
   "source": [
    "# Overloading\n",
    "# + in lists or strings callet concatenate, given that multiplication will concatenate list with itself.\n",
    "\n",
    "counts = [2,4,6,8,10]\n",
    "repeats = counts*2\n",
    "print(repeats)\n",
    "\n",
    "# equal with counts + counts"
   ]
  }
 ],
 "metadata": {
  "kernelspec": {
   "display_name": "Python 3 (ipykernel)",
   "language": "python",
   "name": "python3"
  },
  "language_info": {
   "codemirror_mode": {
    "name": "ipython",
    "version": 3
   },
   "file_extension": ".py",
   "mimetype": "text/x-python",
   "name": "python",
   "nbconvert_exporter": "python",
   "pygments_lexer": "ipython3",
   "version": "3.9.7"
  }
 },
 "nbformat": 4,
 "nbformat_minor": 5
}
