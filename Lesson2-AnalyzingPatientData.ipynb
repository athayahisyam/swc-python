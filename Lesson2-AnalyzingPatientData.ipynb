{
 "cells": [
  {
   "cell_type": "markdown",
   "id": "f4f449ba",
   "metadata": {},
   "source": [
    "# HEP Software Training: Learn Programming with Python\n",
    "## Chapter 2: Analyzing Patient Data\n",
    "\n",
    "Created by: [Hisyam Athaya](https://athayahisyam.github.io/)  \n",
    "Learning portfolio based on [SWCarpentry Programming with Python: Python Fundamentals](https://swcarpentry.github.io/python-novice-inflammation/)  \n",
    "Visit [HEP Software Training](https://hepsoftwarefoundation.org/training/curriculum.html) for more information."
   ]
  },
  {
   "cell_type": "markdown",
   "id": "6fcac0b8",
   "metadata": {},
   "source": [
    "# Importing Useful Library"
   ]
  },
  {
   "cell_type": "code",
   "execution_count": 2,
   "id": "31a72f2e",
   "metadata": {},
   "outputs": [
    {
     "data": {
      "text/plain": [
       "'1.20.3'"
      ]
     },
     "execution_count": 2,
     "metadata": {},
     "output_type": "execute_result"
    }
   ],
   "source": [
    "import numpy\n",
    "numpy.__version__"
   ]
  },
  {
   "cell_type": "markdown",
   "id": "364237b3",
   "metadata": {},
   "source": [
    "Loading data from csv => in this case, the data is not saved to memory"
   ]
  },
  {
   "cell_type": "code",
   "execution_count": 5,
   "id": "cda73503",
   "metadata": {},
   "outputs": [
    {
     "data": {
      "text/plain": [
       "array([[0., 0., 1., ..., 3., 0., 0.],\n",
       "       [0., 1., 2., ..., 1., 0., 1.],\n",
       "       [0., 1., 1., ..., 2., 1., 1.],\n",
       "       ...,\n",
       "       [0., 1., 1., ..., 1., 1., 1.],\n",
       "       [0., 0., 0., ..., 0., 2., 0.],\n",
       "       [0., 0., 1., ..., 1., 1., 0.]])"
      ]
     },
     "execution_count": 5,
     "metadata": {},
     "output_type": "execute_result"
    }
   ],
   "source": [
    "numpy.loadtxt(fname='python-novice-inflammation-data/data/inflammation-01.csv', delimiter=',')"
   ]
  },
  {
   "cell_type": "markdown",
   "id": "5993682f",
   "metadata": {},
   "source": [
    "# Numpy Array Operations"
   ]
  },
  {
   "cell_type": "markdown",
   "id": "5a00e25b",
   "metadata": {},
   "source": [
    "Loading data from csv and saving them to variable `data`"
   ]
  },
  {
   "cell_type": "code",
   "execution_count": 6,
   "id": "38cd2d2e",
   "metadata": {},
   "outputs": [],
   "source": [
    "data = numpy.loadtxt(fname='python-novice-inflammation-data/data/inflammation-01.csv', delimiter=',')"
   ]
  },
  {
   "cell_type": "code",
   "execution_count": 7,
   "id": "0f796ed9",
   "metadata": {},
   "outputs": [
    {
     "name": "stdout",
     "output_type": "stream",
     "text": [
      "[[0. 0. 1. ... 3. 0. 0.]\n",
      " [0. 1. 2. ... 1. 0. 1.]\n",
      " [0. 1. 1. ... 2. 1. 1.]\n",
      " ...\n",
      " [0. 1. 1. ... 1. 1. 1.]\n",
      " [0. 0. 0. ... 0. 2. 0.]\n",
      " [0. 0. 1. ... 1. 1. 0.]]\n"
     ]
    }
   ],
   "source": [
    "print(data)"
   ]
  },
  {
   "cell_type": "code",
   "execution_count": 8,
   "id": "d6e99e17",
   "metadata": {},
   "outputs": [
    {
     "name": "stdout",
     "output_type": "stream",
     "text": [
      "<class 'numpy.ndarray'>\n"
     ]
    }
   ],
   "source": [
    "print(type(data))"
   ]
  },
  {
   "cell_type": "code",
   "execution_count": 9,
   "id": "2780fb39",
   "metadata": {},
   "outputs": [
    {
     "name": "stdout",
     "output_type": "stream",
     "text": [
      "float64\n"
     ]
    }
   ],
   "source": [
    "# dtype for showing the type of data contained in the ndarray\n",
    "\n",
    "print(data.dtype)"
   ]
  },
  {
   "cell_type": "code",
   "execution_count": 11,
   "id": "6e4890c8",
   "metadata": {},
   "outputs": [
    {
     "name": "stdout",
     "output_type": "stream",
     "text": [
      "(60, 40)\n"
     ]
    }
   ],
   "source": [
    "# shape of the data variable, its description of the dimensions of data.\n",
    "\n",
    "print(data.shape)"
   ]
  },
  {
   "cell_type": "markdown",
   "id": "dbb04fb4",
   "metadata": {},
   "source": [
    "The data contains `60 rows` and `40 columns`."
   ]
  },
  {
   "cell_type": "code",
   "execution_count": 13,
   "id": "5b956160",
   "metadata": {},
   "outputs": [
    {
     "name": "stdout",
     "output_type": "stream",
     "text": [
      "first value in the data: 0.0\n"
     ]
    }
   ],
   "source": [
    "# to access a single value in the array, we need to provide index in square brackets.\n",
    "\n",
    "print('first value in the data:', data[0,0])"
   ]
  },
  {
   "cell_type": "code",
   "execution_count": 14,
   "id": "28e6be74",
   "metadata": {},
   "outputs": [
    {
     "name": "stdout",
     "output_type": "stream",
     "text": [
      "middle value in the data: 13.0\n"
     ]
    }
   ],
   "source": [
    "print('middle value in the data:', data[30, 20])"
   ]
  },
  {
   "cell_type": "markdown",
   "id": "53b4ceba",
   "metadata": {},
   "source": [
    "Remember: indices in Python array are `[row, column]`"
   ]
  },
  {
   "cell_type": "markdown",
   "id": "b09cfee6",
   "metadata": {},
   "source": [
    "# Slicing Data (... : ...)"
   ]
  },
  {
   "cell_type": "markdown",
   "id": "f71b51ae",
   "metadata": {},
   "source": [
    "Select first `ten columns of values` and the first `four rows of values`  \n",
    "In this context, where the data column represents days of observation and rows represents patients: first ten days of values for the first four of patients."
   ]
  },
  {
   "cell_type": "code",
   "execution_count": 15,
   "id": "100af4a5",
   "metadata": {},
   "outputs": [
    {
     "name": "stdout",
     "output_type": "stream",
     "text": [
      "[[0. 0. 1. 3. 1. 2. 4. 7. 8. 3.]\n",
      " [0. 1. 2. 1. 2. 1. 3. 2. 2. 6.]\n",
      " [0. 1. 1. 3. 3. 2. 6. 2. 5. 9.]\n",
      " [0. 0. 2. 0. 4. 2. 2. 1. 6. 7.]]\n"
     ]
    }
   ],
   "source": [
    "# remember! [row, column]\n",
    "\n",
    "print(data[0:4, 0:10])"
   ]
  },
  {
   "cell_type": "markdown",
   "id": "6a990424",
   "metadata": {},
   "source": [
    "The slice `[0:4]` means: `start at index 0 and go up-to-but-not-including 4`. Respectively, slice `[0:10]` means `start at index 0 go up-to-but-not-including 10`. Slice can begins everywhere, depends on what we needed."
   ]
  },
  {
   "cell_type": "code",
   "execution_count": 16,
   "id": "07f270aa",
   "metadata": {},
   "outputs": [
    {
     "name": "stdout",
     "output_type": "stream",
     "text": [
      "[[0. 0. 1. 2. 2. 4. 2. 1. 6. 4.]\n",
      " [0. 0. 2. 2. 4. 2. 2. 5. 5. 8.]\n",
      " [0. 0. 1. 2. 3. 1. 2. 3. 5. 3.]\n",
      " [0. 0. 0. 3. 1. 5. 6. 5. 5. 8.]\n",
      " [0. 1. 1. 2. 1. 3. 5. 3. 5. 8.]]\n"
     ]
    }
   ],
   "source": [
    "print(data[5:10, 0:10])"
   ]
  },
  {
   "cell_type": "markdown",
   "id": "7b9a85c3",
   "metadata": {},
   "source": [
    "Slice do not have to include the `upper bound` and `lower bound`(`[lower bound : upper bound]`). If we do not specify `lower bound`, Python will use `0` as default and if we do not specify the `upper bound`, Python will run the slice to the end of the row/column axis. And if we do not specify anything, i.e. `[:]`, the slice includes everything."
   ]
  },
  {
   "cell_type": "code",
   "execution_count": 22,
   "id": "4a612c2b",
   "metadata": {},
   "outputs": [
    {
     "name": "stdout",
     "output_type": "stream",
     "text": [
      "small is: \n",
      "[[2. 3. 0. 0.]\n",
      " [1. 1. 0. 1.]\n",
      " [2. 2. 1. 1.]]\n"
     ]
    }
   ],
   "source": [
    "# remember! [row, column]\n",
    "# remember! [lower bound : upper bound]\n",
    "\n",
    "small = data[:3, 36:] \n",
    "# means row start from index 0 up-to-but-not-include 3, column start from index 36 until end of axis\n",
    "\n",
    "print('small is: ')\n",
    "print(small)"
   ]
  },
  {
   "cell_type": "code",
   "execution_count": null,
   "id": "289d08a6",
   "metadata": {},
   "outputs": [],
   "source": []
  }
 ],
 "metadata": {
  "kernelspec": {
   "display_name": "Python 3 (ipykernel)",
   "language": "python",
   "name": "python3"
  },
  "language_info": {
   "codemirror_mode": {
    "name": "ipython",
    "version": 3
   },
   "file_extension": ".py",
   "mimetype": "text/x-python",
   "name": "python",
   "nbconvert_exporter": "python",
   "pygments_lexer": "ipython3",
   "version": "3.9.7"
  }
 },
 "nbformat": 4,
 "nbformat_minor": 5
}
