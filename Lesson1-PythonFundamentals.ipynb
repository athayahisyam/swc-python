{
 "cells": [
  {
   "cell_type": "markdown",
   "id": "fc8ede83",
   "metadata": {},
   "source": [
    "# HEP Software Training: Learn Programming with Python\n",
    "## Chapter 1: Fundamentals of Python\n",
    "\n",
    "Created by: [Hisyam Athaya](https://athayahisyam.github.io/)  \n",
    "Learning portfolio based on [SWCarpentry Programming with Python: Python Fundamentals](https://swcarpentry.github.io/python-novice-inflammation/)  \n",
    "Visit [HEP Software Training](https://hepsoftwarefoundation.org/training/curriculum.html) for more information."
   ]
  },
  {
   "cell_type": "markdown",
   "id": "c9bace9e",
   "metadata": {},
   "source": [
    "# Variables and Types of Data"
   ]
  },
  {
   "cell_type": "code",
   "execution_count": 4,
   "id": "8bda05eb",
   "metadata": {},
   "outputs": [],
   "source": [
    "weight_kg = 60.5"
   ]
  },
  {
   "cell_type": "code",
   "execution_count": 2,
   "id": "97c13208",
   "metadata": {},
   "outputs": [],
   "source": [
    "patient_id = '001'"
   ]
  },
  {
   "cell_type": "code",
   "execution_count": 5,
   "id": "714656d7",
   "metadata": {},
   "outputs": [
    {
     "name": "stdout",
     "output_type": "stream",
     "text": [
      "<class 'float'>\n",
      "<class 'str'>\n"
     ]
    }
   ],
   "source": [
    "print(type(weight_kg))\n",
    "print(type(patient_id))"
   ]
  },
  {
   "cell_type": "markdown",
   "id": "30bf5b42",
   "metadata": {},
   "source": [
    "Use variable's content and store them in different variable"
   ]
  },
  {
   "cell_type": "code",
   "execution_count": 6,
   "id": "97d728ec",
   "metadata": {},
   "outputs": [
    {
     "name": "stdout",
     "output_type": "stream",
     "text": [
      "133.10000000000002\n"
     ]
    }
   ],
   "source": [
    "weight_lb = 2.2 * weight_kg\n",
    "print(weight_lb)"
   ]
  },
  {
   "cell_type": "code",
   "execution_count": 8,
   "id": "2dd046fc",
   "metadata": {},
   "outputs": [
    {
     "name": "stdout",
     "output_type": "stream",
     "text": [
      "inflam_inflam_001\n"
     ]
    }
   ],
   "source": [
    "patient_id = 'inflam_' + patient_id\n",
    "print(patient_id)"
   ]
  },
  {
   "cell_type": "markdown",
   "id": "237d57b6",
   "metadata": {},
   "source": [
    "# Built-in Python Functions"
   ]
  },
  {
   "cell_type": "code",
   "execution_count": 9,
   "id": "0ffe1124",
   "metadata": {},
   "outputs": [
    {
     "name": "stdout",
     "output_type": "stream",
     "text": [
      "133.10000000000002\n",
      "<class 'float'>\n"
     ]
    }
   ],
   "source": [
    "print(weight_lb)\n",
    "print(type(weight_lb))"
   ]
  },
  {
   "cell_type": "code",
   "execution_count": 10,
   "id": "fe142518",
   "metadata": {},
   "outputs": [
    {
     "name": "stdout",
     "output_type": "stream",
     "text": [
      "inflam_inflam_001\n"
     ]
    }
   ],
   "source": [
    "print(patient_id)"
   ]
  },
  {
   "cell_type": "code",
   "execution_count": 11,
   "id": "1b916b0e",
   "metadata": {},
   "outputs": [
    {
     "name": "stdout",
     "output_type": "stream",
     "text": [
      "inflam_inflam_001 weight in kilograms:  60.5\n"
     ]
    }
   ],
   "source": [
    "print(patient_id, 'weight in kilograms: ', weight_kg)"
   ]
  },
  {
   "cell_type": "markdown",
   "id": "85ad3fa3",
   "metadata": {},
   "source": [
    "Using variable's value in an operations would not change its content unless specified so. In this example, the value is used for pound-kilogram conversion, where the value from `weight_kg` is multiplied by `2.0` and stored in `weight_lb`. The value in `weight_kg` remains intact."
   ]
  },
  {
   "cell_type": "code",
   "execution_count": 12,
   "id": "896aa86c",
   "metadata": {},
   "outputs": [
    {
     "name": "stdout",
     "output_type": "stream",
     "text": [
      "weight in kilograms: 60.5 and weight in pounds: 133.10000000000002\n"
     ]
    }
   ],
   "source": [
    "# There are 2.2 pounds per kilogram.\n",
    "weight_lb = 2.2 * weight_kg\n",
    "print('weight in kilograms:', weight_kg, 'and weight in pounds:', weight_lb)"
   ]
  },
  {
   "cell_type": "markdown",
   "id": "ec3acb36",
   "metadata": {},
   "source": [
    "If we change `weight_kg` it will also change `weight_lb` respectively as it uses the value from the previous variable."
   ]
  },
  {
   "cell_type": "markdown",
   "id": "8d5ba4cb",
   "metadata": {},
   "source": [
    "# Assignment: Analysis"
   ]
  },
  {
   "cell_type": "markdown",
   "id": "89eac2b5",
   "metadata": {},
   "source": [
    "What values do the variables `mass` and `age` have after each of the following statements? Test your answer!"
   ]
  },
  {
   "cell_type": "code",
   "execution_count": 13,
   "id": "b37e1318",
   "metadata": {},
   "outputs": [],
   "source": [
    "mass = 47.5\n",
    "age = 122\n",
    "mass = mass * 2.0\n",
    "age = age - 20"
   ]
  },
  {
   "cell_type": "markdown",
   "id": "f21ebde3",
   "metadata": {},
   "source": [
    "`mass` would have `95.0`\n",
    "`age` would have `102`"
   ]
  },
  {
   "cell_type": "code",
   "execution_count": 14,
   "id": "e544c5dc",
   "metadata": {},
   "outputs": [
    {
     "name": "stdout",
     "output_type": "stream",
     "text": [
      "95.0\n",
      "102\n"
     ]
    }
   ],
   "source": [
    "print(mass)\n",
    "print(age)"
   ]
  }
 ],
 "metadata": {
  "kernelspec": {
   "display_name": "Python 3 (ipykernel)",
   "language": "python",
   "name": "python3"
  },
  "language_info": {
   "codemirror_mode": {
    "name": "ipython",
    "version": 3
   },
   "file_extension": ".py",
   "mimetype": "text/x-python",
   "name": "python",
   "nbconvert_exporter": "python",
   "pygments_lexer": "ipython3",
   "version": "3.9.7"
  }
 },
 "nbformat": 4,
 "nbformat_minor": 5
}
