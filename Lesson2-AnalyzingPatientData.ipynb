{
 "cells": [
  {
   "cell_type": "markdown",
   "id": "79f1a3dc",
   "metadata": {},
   "source": [
    "# HEP Software Training: Learn Programming with Python\n",
    "## Chapter 2: Analyzing Patient Data\n",
    "\n",
    "Created by: [Hisyam Athaya](https://athayahisyam.github.io/)  \n",
    "Learning portfolio based on [SWCarpentry Programming with Python: Python Fundamentals](https://swcarpentry.github.io/python-novice-inflammation/)  \n",
    "Visit [HEP Software Training](https://hepsoftwarefoundation.org/training/curriculum.html) for more information."
   ]
  },
  {
   "cell_type": "markdown",
   "id": "05e03ac0",
   "metadata": {},
   "source": [
    "# Importing Useful Library"
   ]
  },
  {
   "cell_type": "code",
   "execution_count": 2,
   "id": "160e9a5f",
   "metadata": {},
   "outputs": [
    {
     "data": {
      "text/plain": [
       "'1.20.3'"
      ]
     },
     "execution_count": 2,
     "metadata": {},
     "output_type": "execute_result"
    }
   ],
   "source": [
    "import numpy\n",
    "numpy.__version__"
   ]
  },
  {
   "cell_type": "markdown",
   "id": "be212ffe",
   "metadata": {},
   "source": [
    "Loading data from csv => in this case, the data is not saved to memory"
   ]
  },
  {
   "cell_type": "code",
   "execution_count": 5,
   "id": "22610a5b",
   "metadata": {},
   "outputs": [
    {
     "data": {
      "text/plain": [
       "array([[0., 0., 1., ..., 3., 0., 0.],\n",
       "       [0., 1., 2., ..., 1., 0., 1.],\n",
       "       [0., 1., 1., ..., 2., 1., 1.],\n",
       "       ...,\n",
       "       [0., 1., 1., ..., 1., 1., 1.],\n",
       "       [0., 0., 0., ..., 0., 2., 0.],\n",
       "       [0., 0., 1., ..., 1., 1., 0.]])"
      ]
     },
     "execution_count": 5,
     "metadata": {},
     "output_type": "execute_result"
    }
   ],
   "source": [
    "numpy.loadtxt(fname='python-novice-inflammation-data/data/inflammation-01.csv', delimiter=',')"
   ]
  },
  {
   "cell_type": "markdown",
   "id": "cc862cb6",
   "metadata": {},
   "source": [
    "# Numpy Array Operations"
   ]
  },
  {
   "cell_type": "markdown",
   "id": "78506fb6",
   "metadata": {},
   "source": [
    "Loading data from csv and saving them to variable `data`"
   ]
  },
  {
   "cell_type": "code",
   "execution_count": 6,
   "id": "0f5ccf35",
   "metadata": {},
   "outputs": [],
   "source": [
    "data = numpy.loadtxt(fname='python-novice-inflammation-data/data/inflammation-01.csv', delimiter=',')"
   ]
  },
  {
   "cell_type": "code",
   "execution_count": 7,
   "id": "25f709cf",
   "metadata": {},
   "outputs": [
    {
     "name": "stdout",
     "output_type": "stream",
     "text": [
      "[[0. 0. 1. ... 3. 0. 0.]\n",
      " [0. 1. 2. ... 1. 0. 1.]\n",
      " [0. 1. 1. ... 2. 1. 1.]\n",
      " ...\n",
      " [0. 1. 1. ... 1. 1. 1.]\n",
      " [0. 0. 0. ... 0. 2. 0.]\n",
      " [0. 0. 1. ... 1. 1. 0.]]\n"
     ]
    }
   ],
   "source": [
    "print(data)"
   ]
  },
  {
   "cell_type": "code",
   "execution_count": 8,
   "id": "1da2b534",
   "metadata": {},
   "outputs": [
    {
     "name": "stdout",
     "output_type": "stream",
     "text": [
      "<class 'numpy.ndarray'>\n"
     ]
    }
   ],
   "source": [
    "print(type(data))"
   ]
  },
  {
   "cell_type": "code",
   "execution_count": 9,
   "id": "555b8c0d",
   "metadata": {},
   "outputs": [
    {
     "name": "stdout",
     "output_type": "stream",
     "text": [
      "float64\n"
     ]
    }
   ],
   "source": [
    "# dtype for showing the type of data contained in the ndarray\n",
    "\n",
    "print(data.dtype)"
   ]
  },
  {
   "cell_type": "code",
   "execution_count": 11,
   "id": "e64987fd",
   "metadata": {},
   "outputs": [
    {
     "name": "stdout",
     "output_type": "stream",
     "text": [
      "(60, 40)\n"
     ]
    }
   ],
   "source": [
    "# shape of the data variable, its description of the dimensions of data.\n",
    "\n",
    "print(data.shape)"
   ]
  },
  {
   "cell_type": "markdown",
   "id": "f380e2c4",
   "metadata": {},
   "source": [
    "The data contains `60 rows` and `40 columns`."
   ]
  },
  {
   "cell_type": "code",
   "execution_count": 13,
   "id": "535e82b8",
   "metadata": {},
   "outputs": [
    {
     "name": "stdout",
     "output_type": "stream",
     "text": [
      "first value in the data: 0.0\n"
     ]
    }
   ],
   "source": [
    "# to access a single value in the array, we need to provide index in square brackets.\n",
    "\n",
    "print('first value in the data:', data[0,0])"
   ]
  },
  {
   "cell_type": "code",
   "execution_count": 14,
   "id": "1b21b737",
   "metadata": {},
   "outputs": [
    {
     "name": "stdout",
     "output_type": "stream",
     "text": [
      "middle value in the data: 13.0\n"
     ]
    }
   ],
   "source": [
    "print('middle value in the data:', data[30, 20])"
   ]
  },
  {
   "cell_type": "markdown",
   "id": "a9b14d31",
   "metadata": {},
   "source": [
    "Remember: indices in Python array are `[row, column]`"
   ]
  },
  {
   "cell_type": "markdown",
   "id": "ff7a7d88",
   "metadata": {},
   "source": [
    "# Slicing Data (... : ...)"
   ]
  },
  {
   "cell_type": "markdown",
   "id": "4f8a81a5",
   "metadata": {},
   "source": [
    "Select first `ten columns of values` and the first `four rows of values`  \n",
    "In this context, where the data column represents days of observation and rows represents patients: first ten days of values for the first four of patients."
   ]
  },
  {
   "cell_type": "code",
   "execution_count": 15,
   "id": "55c5d096",
   "metadata": {},
   "outputs": [
    {
     "name": "stdout",
     "output_type": "stream",
     "text": [
      "[[0. 0. 1. 3. 1. 2. 4. 7. 8. 3.]\n",
      " [0. 1. 2. 1. 2. 1. 3. 2. 2. 6.]\n",
      " [0. 1. 1. 3. 3. 2. 6. 2. 5. 9.]\n",
      " [0. 0. 2. 0. 4. 2. 2. 1. 6. 7.]]\n"
     ]
    }
   ],
   "source": [
    "# remember! [row, column]\n",
    "\n",
    "print(data[0:4, 0:10])"
   ]
  },
  {
   "cell_type": "markdown",
   "id": "75f887b7",
   "metadata": {},
   "source": [
    "The slice `[0:4]` means: `start at index 0 and go up-to-but-not-including 4`. Respectively, slice `[0:10]` means `start at index 0 go up-to-but-not-including 10`. Slice can begins everywhere, depends on what we needed."
   ]
  },
  {
   "cell_type": "code",
   "execution_count": 16,
   "id": "dd72e518",
   "metadata": {},
   "outputs": [
    {
     "name": "stdout",
     "output_type": "stream",
     "text": [
      "[[0. 0. 1. 2. 2. 4. 2. 1. 6. 4.]\n",
      " [0. 0. 2. 2. 4. 2. 2. 5. 5. 8.]\n",
      " [0. 0. 1. 2. 3. 1. 2. 3. 5. 3.]\n",
      " [0. 0. 0. 3. 1. 5. 6. 5. 5. 8.]\n",
      " [0. 1. 1. 2. 1. 3. 5. 3. 5. 8.]]\n"
     ]
    }
   ],
   "source": [
    "print(data[5:10, 0:10])"
   ]
  },
  {
   "cell_type": "markdown",
   "id": "36389e36",
   "metadata": {},
   "source": [
    "Slice do not have to include the `upper bound` and `lower bound`(`[lower bound : upper bound]`). If we do not specify `lower bound`, Python will use `0` as default and if we do not specify the `upper bound`, Python will run the slice to the end of the row/column axis. And if we do not specify anything, i.e. `[:]`, the slice includes everything."
   ]
  },
  {
   "cell_type": "code",
   "execution_count": 22,
   "id": "78e09e28",
   "metadata": {},
   "outputs": [
    {
     "name": "stdout",
     "output_type": "stream",
     "text": [
      "small is: \n",
      "[[2. 3. 0. 0.]\n",
      " [1. 1. 0. 1.]\n",
      " [2. 2. 1. 1.]]\n"
     ]
    }
   ],
   "source": [
    "# remember! [row, column]\n",
    "# remember! [lower bound : upper bound]\n",
    "\n",
    "small = data[:3, 36:] \n",
    "# means row start from index 0 up-to-but-not-include 3, column start from index 36 until end of axis\n",
    "\n",
    "print('small is: ')\n",
    "print(small)"
   ]
  },
  {
   "cell_type": "markdown",
   "id": "fa6751a4",
   "metadata": {},
   "source": [
    "# Data Analysis"
   ]
  },
  {
   "cell_type": "markdown",
   "id": "c212953c",
   "metadata": {},
   "source": [
    "## Mean"
   ]
  },
  {
   "cell_type": "code",
   "execution_count": 23,
   "id": "d0e20dc6",
   "metadata": {},
   "outputs": [
    {
     "name": "stdout",
     "output_type": "stream",
     "text": [
      "6.14875\n"
     ]
    }
   ],
   "source": [
    "print(numpy.mean(data))"
   ]
  },
  {
   "cell_type": "markdown",
   "id": "f7e155b8",
   "metadata": {},
   "source": [
    "Note that not every Python functions need input. But need its parentheses nonetheless."
   ]
  },
  {
   "cell_type": "code",
   "execution_count": 24,
   "id": "6dcb461b",
   "metadata": {},
   "outputs": [
    {
     "name": "stdout",
     "output_type": "stream",
     "text": [
      "Thu Mar 10 12:14:23 2022\n"
     ]
    }
   ],
   "source": [
    "import time\n",
    "print(time.ctime())"
   ]
  },
  {
   "cell_type": "markdown",
   "id": "f6f511a4",
   "metadata": {},
   "source": [
    "## Descriptive Values of the Dataset"
   ]
  },
  {
   "cell_type": "code",
   "execution_count": 25,
   "id": "84ac5019",
   "metadata": {},
   "outputs": [
    {
     "name": "stdout",
     "output_type": "stream",
     "text": [
      "maximum inflammation:  20.0\n",
      "minimum inflammation:  0.0\n",
      "standard deviation:  4.613833197118566\n"
     ]
    }
   ],
   "source": [
    "maxval, minval, stdval = numpy.max(data), numpy.min(data), numpy.std(data)\n",
    "\n",
    "print('maximum inflammation: ', maxval)\n",
    "print('minimum inflammation: ', minval)\n",
    "print('standard deviation: ', stdval)"
   ]
  },
  {
   "cell_type": "markdown",
   "id": "ab28e1a8",
   "metadata": {},
   "source": [
    "Important note: To list available numpy operations, type `numpy` followed by dot `.` and press `tab`, the complete list will appear. To show the description, type `?` and run or press `shift`+`enter`.\n",
    "\n",
    "e.g.\n",
    "\n",
    "`numpy.clip?`"
   ]
  },
  {
   "cell_type": "markdown",
   "id": "fef9b457",
   "metadata": {},
   "source": [
    "In analysing the data, we often look to variations in statistical values, such as the maximum inflammation per patient or average inflammation per day. One way to do this is to *create new temporary array of the data we want and then do operations on them*"
   ]
  },
  {
   "cell_type": "code",
   "execution_count": 27,
   "id": "1d043a1e",
   "metadata": {},
   "outputs": [
    {
     "name": "stdout",
     "output_type": "stream",
     "text": [
      "maximum inflammation for patient 0: 18.0\n"
     ]
    }
   ],
   "source": [
    "patient_0 = data[0, :]\n",
    "# remember! [row, column]\n",
    "# means row index 0, slice all column for that row\n",
    "\n",
    "print('maximum inflammation for patient 0:', numpy.max(patient_0))"
   ]
  },
  {
   "cell_type": "markdown",
   "id": "7950dc01",
   "metadata": {},
   "source": [
    "Or, something more straightforward, with no temporary variable."
   ]
  },
  {
   "cell_type": "code",
   "execution_count": 28,
   "id": "6a441676",
   "metadata": {},
   "outputs": [
    {
     "name": "stdout",
     "output_type": "stream",
     "text": [
      "maximum inflammation for patient 0: 19.0\n"
     ]
    }
   ],
   "source": [
    "print('maximum inflammation for patient 0:', numpy.max(data[2, :]))\n",
    "# means row index 2, slice all column, no lower or upper bound : for that column"
   ]
  },
  {
   "cell_type": "code",
   "execution_count": null,
   "id": "e3e7dc20",
   "metadata": {},
   "outputs": [],
   "source": []
  }
 ],
 "metadata": {
  "kernelspec": {
   "display_name": "Python 3 (ipykernel)",
   "language": "python",
   "name": "python3"
  },
  "language_info": {
   "codemirror_mode": {
    "name": "ipython",
    "version": 3
   },
   "file_extension": ".py",
   "mimetype": "text/x-python",
   "name": "python",
   "nbconvert_exporter": "python",
   "pygments_lexer": "ipython3",
   "version": "3.9.7"
  }
 },
 "nbformat": 4,
 "nbformat_minor": 5
}
